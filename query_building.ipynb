{
 "cells": [
  {
   "cell_type": "code",
   "execution_count": null,
   "metadata": {},
   "outputs": [],
   "source": [
    "import pandas as pd\n",
    "from SPARQLWrapper import SPARQLWrapper, JSON\n",
    "\n",
    "# Ensures that all dataframes are displayed on one line instead of breaking columns across multiple lines\n",
    "pd.set_option('display.expand_frame_repr', False)\n",
    "\n",
    "sparql = SPARQLWrapper('https://vocab.getty.edu/sparql')\n",
    "sparql.setReturnFormat(JSON)"
   ]
  },
  {
   "cell_type": "code",
   "execution_count": null,
   "metadata": {},
   "outputs": [],
   "source": [
    "def make_query(query):\n",
    "    sparql.setQuery(query)\n",
    "    results = sparql.queryAndConvert()\n",
    "    return pd.json_normalize(results['results']['bindings'])"
   ]
  },
  {
   "cell_type": "markdown",
   "metadata": {},
   "source": [
    "## Simple Structure of a Query"
   ]
  },
  {
   "cell_type": "code",
   "execution_count": null,
   "metadata": {},
   "outputs": [],
   "source": [
    "query = '''\n",
    "# Can be replaced with * to select all variables\n",
    "SELECT ?subject ?predicate ?object\n",
    "WHERE {\n",
    "    ?subject ?predicate ?object .\n",
    "}\n",
    "\n",
    "OFFSET 10 LIMIT 10\n",
    "'''\n",
    "\n",
    "make_query(query)"
   ]
  },
  {
   "cell_type": "markdown",
   "metadata": {},
   "source": [
    "## Prefixes"
   ]
  },
  {
   "cell_type": "code",
   "execution_count": null,
   "metadata": {},
   "outputs": [],
   "source": [
    "query = '''\n",
    "PREFIX rdfs: <http://www.w3.org/2000/01/rdf-schema#>\n",
    "\n",
    "SELECT *\n",
    "WHERE {\n",
    "    ?subject rdfs:label ?object .\n",
    "}\n",
    "LIMIT 10\n",
    "'''\n",
    "\n",
    "make_query(query)"
   ]
  },
  {
   "cell_type": "markdown",
   "metadata": {},
   "source": [
    "## Shorthand Notation"
   ]
  },
  {
   "cell_type": "code",
   "execution_count": null,
   "metadata": {},
   "outputs": [],
   "source": [
    "query = '''\n",
    "PREFIX rdfs: <http://www.w3.org/2000/01/rdf-schema#>\n",
    "PREFIX gvp: <http://vocab.getty.edu/ontology#>\n",
    "PREFIX xl: <http://www.w3.org/2008/05/skos-xl#>\n",
    "\n",
    "SELECT ?collaboratorName ?parentName\n",
    "WHERE {\n",
    "    ?person rdfs:label \"Vincent van Gogh\" .\n",
    "    ?person gvp:ulan1303_collaborated_with ?collaborator .\n",
    "    ?person gvp:ulan1511_child_of ?parent .\n",
    "\n",
    "    ?collaborator gvp:prefLabelGVP ?collaboratorPrefLabel .\n",
    "    ?collaboratorPrefLabel xl:literalForm ?collaboratorName .\n",
    "\n",
    "    ?parent gvp:prefLabelGVP ?parentPrefLabel .\n",
    "    ?parentPrefLabel xl:literalForm ?parentName .\n",
    "}\n",
    "LIMIT 10\n",
    "'''\n",
    "\n",
    "make_query(query)"
   ]
  },
  {
   "cell_type": "code",
   "execution_count": null,
   "metadata": {},
   "outputs": [],
   "source": [
    "query = '''\n",
    "SELECT ?collaborator ?parent\n",
    "WHERE {\n",
    "    ?person rdfs:label \"Vincent van Gogh\" ;\n",
    "            gvp:ulan1303_collaborated_with [ gvp:prefLabelGVP [ xl:literalForm ?collaborator ]] ;\n",
    "            gvp:ulan1511_child_of [ gvp:prefLabelGVP [ xl:literalForm ?parent ]] .\n",
    "}\n",
    "LIMIT 10\n",
    "'''\n",
    "\n",
    "make_query(query)"
   ]
  },
  {
   "cell_type": "markdown",
   "metadata": {},
   "source": [
    "## Optional Clauses"
   ]
  },
  {
   "cell_type": "code",
   "execution_count": null,
   "metadata": {},
   "outputs": [],
   "source": [
    "query = '''\n",
    "SELECT ?artist ?artistName ?niecesNephews\n",
    "WHERE {\n",
    "    ?artist gvp:broaderInstantial ulan:500000002 ;\n",
    "            gvp:prefLabelGVP [ xl:literalForm ?artistName ] .\n",
    "\n",
    "    OPTIONAL {\n",
    "        ?artist gvp:ulan1532_uncle-aunt_of ?niecesNephews .\n",
    "    }\n",
    "    \n",
    "}\n",
    "OFFSET 940 LIMIT 10\n",
    "'''\n",
    "\n",
    "make_query(query)"
   ]
  },
  {
   "cell_type": "markdown",
   "metadata": {},
   "source": [
    "## Filters"
   ]
  },
  {
   "cell_type": "code",
   "execution_count": null,
   "metadata": {},
   "outputs": [],
   "source": [
    "query = '''\n",
    "SELECT ?artist ?artistName ?birthYear ?deathYear\n",
    "WHERE {\n",
    "    ?artist gvp:broaderInstantial ulan:500000002 ;\n",
    "            gvp:prefLabelGVP [ xl:literalForm ?artistName ] ;\n",
    "            foaf:focus [ gvp:biographyPreferred [ gvp:estStart ?birthYear ; gvp:estEnd ?deathYear ]] .\n",
    "\n",
    "    FILTER(YEAR(?birthYear) > 1800) # && YEAR(?birthYear) < 2024\n",
    "    \n",
    "}\n",
    "ORDER BY ASC(?birthYear)\n",
    "LIMIT 10\n",
    "'''\n",
    "\n",
    "make_query(query)"
   ]
  },
  {
   "cell_type": "markdown",
   "metadata": {},
   "source": [
    "## Values"
   ]
  },
  {
   "cell_type": "code",
   "execution_count": null,
   "metadata": {},
   "outputs": [],
   "source": [
    "query = '''\n",
    "SELECT ?name ?person ?collaborator ?parent\n",
    "WHERE {\n",
    "    VALUES (?name) { (\"Vincent van Gogh\") (\"Paul Klee\") (\"John Singer Sargent\") }\n",
    "\n",
    "    ?person rdfs:label ?name .\n",
    "\n",
    "    OPTIONAL {\n",
    "        ?person gvp:ulan1303_collaborated_with [ gvp:prefLabelGVP [ xl:literalForm ?collaborator ]] ;\n",
    "                gvp:ulan1511_child_of [ gvp:prefLabelGVP [ xl:literalForm ?parent ]] .\n",
    "    }\n",
    "}\n",
    "'''\n",
    "\n",
    "make_query(query)"
   ]
  },
  {
   "cell_type": "markdown",
   "metadata": {},
   "source": [
    "## Group by Clauses"
   ]
  },
  {
   "cell_type": "code",
   "execution_count": null,
   "metadata": {},
   "outputs": [],
   "source": [
    "query = '''\n",
    "SELECT ?birthYear (COUNT(?artist) AS ?count)\n",
    "WHERE {\n",
    "    ?artist gvp:broaderInstantial ulan:500000002 ;\n",
    "            gvp:prefLabelGVP [ xl:literalForm ?artistName ] ;\n",
    "            foaf:focus [ gvp:biographyPreferred [ gvp:estStart ?birthYear ; gvp:estEnd ?deathYear ]] .\n",
    "}\n",
    "GROUP BY ?birthYear\n",
    "ORDER BY DESC(?count)\n",
    "LIMIT 10\n",
    "'''\n",
    "\n",
    "make_query(query)"
   ]
  },
  {
   "cell_type": "markdown",
   "metadata": {},
   "source": [
    "## Federated Queries"
   ]
  },
  {
   "cell_type": "code",
   "execution_count": null,
   "metadata": {},
   "outputs": [],
   "source": [
    "query = '''\n",
    "PREFIX dbpedia-owl: <http://dbpedia.org/ontology/>\n",
    "\n",
    "SELECT ?subject ?predicate ?object\n",
    "WHERE {\n",
    "    SERVICE <http://dbpedia.org/sparql> {\n",
    "        SELECT ?subject ?predicate ?object\n",
    "        WHERE {\n",
    "            ?subject ?predicate ?object .\n",
    "        }\n",
    "        LIMIT 1\n",
    "    }\n",
    "}\n",
    "'''\n",
    "\n",
    "make_query(query)"
   ]
  }
 ],
 "metadata": {
  "kernelspec": {
   "display_name": "Python 3",
   "language": "python",
   "name": "python3"
  },
  "language_info": {
   "codemirror_mode": {
    "name": "ipython",
    "version": 3
   },
   "file_extension": ".py",
   "mimetype": "text/x-python",
   "name": "python",
   "nbconvert_exporter": "python",
   "pygments_lexer": "ipython3",
   "version": "3.11.8"
  }
 },
 "nbformat": 4,
 "nbformat_minor": 2
}
