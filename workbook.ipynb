{
 "cells": [
  {
   "cell_type": "markdown",
   "metadata": {},
   "source": [
    "# Using Linked-Data in Research\n",
    "\n",
    "This notebook will cover a simple implementation of some work that could be conducted using linked-data. It will cover identifying important entities in text and attempting to disambiguate them against external linked-data collections. This allows us broaden the context of our data with all that is already known and publicised on the semantic web.\n",
    "\n",
    "We'll first setup the project by installing the relevant python packages and downloading any SpaCy models if necessary."
   ]
  },
  {
   "cell_type": "code",
   "execution_count": 1,
   "metadata": {},
   "outputs": [
    {
     "name": "stdout",
     "output_type": "stream",
     "text": [
      "Requirement already satisfied: SPARQLWrapper in ./.conda/lib/python3.11/site-packages (2.0.0)\n",
      "Requirement already satisfied: spacy in ./.conda/lib/python3.11/site-packages (3.7.4)\n",
      "Requirement already satisfied: pandas in ./.conda/lib/python3.11/site-packages (2.2.1)\n",
      "Requirement already satisfied: ipywidgets in ./.conda/lib/python3.11/site-packages (8.1.2)\n",
      "Requirement already satisfied: rdflib>=6.1.1 in ./.conda/lib/python3.11/site-packages (from SPARQLWrapper) (7.0.0)\n",
      "Requirement already satisfied: spacy-legacy<3.1.0,>=3.0.11 in ./.conda/lib/python3.11/site-packages (from spacy) (3.0.12)\n",
      "Requirement already satisfied: spacy-loggers<2.0.0,>=1.0.0 in ./.conda/lib/python3.11/site-packages (from spacy) (1.0.5)\n",
      "Requirement already satisfied: murmurhash<1.1.0,>=0.28.0 in ./.conda/lib/python3.11/site-packages (from spacy) (1.0.10)\n",
      "Requirement already satisfied: cymem<2.1.0,>=2.0.2 in ./.conda/lib/python3.11/site-packages (from spacy) (2.0.8)\n",
      "Requirement already satisfied: preshed<3.1.0,>=3.0.2 in ./.conda/lib/python3.11/site-packages (from spacy) (3.0.9)\n",
      "Requirement already satisfied: thinc<8.3.0,>=8.2.2 in ./.conda/lib/python3.11/site-packages (from spacy) (8.2.3)\n",
      "Requirement already satisfied: wasabi<1.2.0,>=0.9.1 in ./.conda/lib/python3.11/site-packages (from spacy) (1.1.2)\n",
      "Requirement already satisfied: srsly<3.0.0,>=2.4.3 in ./.conda/lib/python3.11/site-packages (from spacy) (2.4.8)\n",
      "Requirement already satisfied: catalogue<2.1.0,>=2.0.6 in ./.conda/lib/python3.11/site-packages (from spacy) (2.0.10)\n",
      "Requirement already satisfied: weasel<0.4.0,>=0.1.0 in ./.conda/lib/python3.11/site-packages (from spacy) (0.3.4)\n",
      "Requirement already satisfied: typer<0.10.0,>=0.3.0 in ./.conda/lib/python3.11/site-packages (from spacy) (0.9.4)\n",
      "Requirement already satisfied: smart-open<7.0.0,>=5.2.1 in ./.conda/lib/python3.11/site-packages (from spacy) (6.4.0)\n",
      "Requirement already satisfied: tqdm<5.0.0,>=4.38.0 in ./.conda/lib/python3.11/site-packages (from spacy) (4.66.2)\n",
      "Requirement already satisfied: requests<3.0.0,>=2.13.0 in ./.conda/lib/python3.11/site-packages (from spacy) (2.31.0)\n",
      "Requirement already satisfied: pydantic!=1.8,!=1.8.1,<3.0.0,>=1.7.4 in ./.conda/lib/python3.11/site-packages (from spacy) (2.6.4)\n",
      "Requirement already satisfied: jinja2 in ./.conda/lib/python3.11/site-packages (from spacy) (3.1.3)\n",
      "Requirement already satisfied: setuptools in ./.conda/lib/python3.11/site-packages (from spacy) (68.2.2)\n",
      "Requirement already satisfied: packaging>=20.0 in ./.conda/lib/python3.11/site-packages (from spacy) (24.0)\n",
      "Requirement already satisfied: langcodes<4.0.0,>=3.2.0 in ./.conda/lib/python3.11/site-packages (from spacy) (3.3.0)\n",
      "Requirement already satisfied: numpy>=1.19.0 in ./.conda/lib/python3.11/site-packages (from spacy) (1.26.4)\n",
      "Requirement already satisfied: python-dateutil>=2.8.2 in ./.conda/lib/python3.11/site-packages (from pandas) (2.9.0)\n",
      "Requirement already satisfied: pytz>=2020.1 in ./.conda/lib/python3.11/site-packages (from pandas) (2024.1)\n",
      "Requirement already satisfied: tzdata>=2022.7 in ./.conda/lib/python3.11/site-packages (from pandas) (2024.1)\n",
      "Requirement already satisfied: comm>=0.1.3 in ./.conda/lib/python3.11/site-packages (from ipywidgets) (0.2.2)\n",
      "Requirement already satisfied: ipython>=6.1.0 in ./.conda/lib/python3.11/site-packages (from ipywidgets) (8.22.2)\n",
      "Requirement already satisfied: traitlets>=4.3.1 in ./.conda/lib/python3.11/site-packages (from ipywidgets) (5.14.2)\n",
      "Requirement already satisfied: widgetsnbextension~=4.0.10 in ./.conda/lib/python3.11/site-packages (from ipywidgets) (4.0.10)\n",
      "Requirement already satisfied: jupyterlab-widgets~=3.0.10 in ./.conda/lib/python3.11/site-packages (from ipywidgets) (3.0.10)\n",
      "Requirement already satisfied: decorator in ./.conda/lib/python3.11/site-packages (from ipython>=6.1.0->ipywidgets) (5.1.1)\n",
      "Requirement already satisfied: jedi>=0.16 in ./.conda/lib/python3.11/site-packages (from ipython>=6.1.0->ipywidgets) (0.19.1)\n",
      "Requirement already satisfied: matplotlib-inline in ./.conda/lib/python3.11/site-packages (from ipython>=6.1.0->ipywidgets) (0.1.6)\n",
      "Requirement already satisfied: prompt-toolkit<3.1.0,>=3.0.41 in ./.conda/lib/python3.11/site-packages (from ipython>=6.1.0->ipywidgets) (3.0.42)\n",
      "Requirement already satisfied: pygments>=2.4.0 in ./.conda/lib/python3.11/site-packages (from ipython>=6.1.0->ipywidgets) (2.17.2)\n",
      "Requirement already satisfied: stack-data in ./.conda/lib/python3.11/site-packages (from ipython>=6.1.0->ipywidgets) (0.6.2)\n",
      "Requirement already satisfied: pexpect>4.3 in ./.conda/lib/python3.11/site-packages (from ipython>=6.1.0->ipywidgets) (4.9.0)\n",
      "Requirement already satisfied: annotated-types>=0.4.0 in ./.conda/lib/python3.11/site-packages (from pydantic!=1.8,!=1.8.1,<3.0.0,>=1.7.4->spacy) (0.6.0)\n",
      "Requirement already satisfied: pydantic-core==2.16.3 in ./.conda/lib/python3.11/site-packages (from pydantic!=1.8,!=1.8.1,<3.0.0,>=1.7.4->spacy) (2.16.3)\n",
      "Requirement already satisfied: typing-extensions>=4.6.1 in ./.conda/lib/python3.11/site-packages (from pydantic!=1.8,!=1.8.1,<3.0.0,>=1.7.4->spacy) (4.10.0)\n",
      "Requirement already satisfied: six>=1.5 in ./.conda/lib/python3.11/site-packages (from python-dateutil>=2.8.2->pandas) (1.16.0)\n",
      "Requirement already satisfied: isodate<0.7.0,>=0.6.0 in ./.conda/lib/python3.11/site-packages (from rdflib>=6.1.1->SPARQLWrapper) (0.6.1)\n",
      "Requirement already satisfied: pyparsing<4,>=2.1.0 in ./.conda/lib/python3.11/site-packages (from rdflib>=6.1.1->SPARQLWrapper) (3.1.2)\n",
      "Requirement already satisfied: charset-normalizer<4,>=2 in ./.conda/lib/python3.11/site-packages (from requests<3.0.0,>=2.13.0->spacy) (3.3.2)\n",
      "Requirement already satisfied: idna<4,>=2.5 in ./.conda/lib/python3.11/site-packages (from requests<3.0.0,>=2.13.0->spacy) (3.6)\n",
      "Requirement already satisfied: urllib3<3,>=1.21.1 in ./.conda/lib/python3.11/site-packages (from requests<3.0.0,>=2.13.0->spacy) (2.2.1)\n",
      "Requirement already satisfied: certifi>=2017.4.17 in ./.conda/lib/python3.11/site-packages (from requests<3.0.0,>=2.13.0->spacy) (2024.2.2)\n",
      "Requirement already satisfied: blis<0.8.0,>=0.7.8 in ./.conda/lib/python3.11/site-packages (from thinc<8.3.0,>=8.2.2->spacy) (0.7.11)\n",
      "Requirement already satisfied: confection<1.0.0,>=0.0.1 in ./.conda/lib/python3.11/site-packages (from thinc<8.3.0,>=8.2.2->spacy) (0.1.4)\n",
      "Requirement already satisfied: click<9.0.0,>=7.1.1 in ./.conda/lib/python3.11/site-packages (from typer<0.10.0,>=0.3.0->spacy) (8.1.7)\n",
      "Requirement already satisfied: cloudpathlib<0.17.0,>=0.7.0 in ./.conda/lib/python3.11/site-packages (from weasel<0.4.0,>=0.1.0->spacy) (0.16.0)\n",
      "Requirement already satisfied: MarkupSafe>=2.0 in ./.conda/lib/python3.11/site-packages (from jinja2->spacy) (2.1.5)\n",
      "Requirement already satisfied: parso<0.9.0,>=0.8.3 in ./.conda/lib/python3.11/site-packages (from jedi>=0.16->ipython>=6.1.0->ipywidgets) (0.8.3)\n",
      "Requirement already satisfied: ptyprocess>=0.5 in ./.conda/lib/python3.11/site-packages (from pexpect>4.3->ipython>=6.1.0->ipywidgets) (0.7.0)\n",
      "Requirement already satisfied: wcwidth in ./.conda/lib/python3.11/site-packages (from prompt-toolkit<3.1.0,>=3.0.41->ipython>=6.1.0->ipywidgets) (0.2.13)\n",
      "Requirement already satisfied: executing>=1.2.0 in ./.conda/lib/python3.11/site-packages (from stack-data->ipython>=6.1.0->ipywidgets) (2.0.1)\n",
      "Requirement already satisfied: asttokens>=2.1.0 in ./.conda/lib/python3.11/site-packages (from stack-data->ipython>=6.1.0->ipywidgets) (2.4.1)\n",
      "Requirement already satisfied: pure-eval in ./.conda/lib/python3.11/site-packages (from stack-data->ipython>=6.1.0->ipywidgets) (0.2.2)\n",
      "Note: you may need to restart the kernel to use updated packages.\n",
      "Collecting en-core-web-sm==3.7.1\n",
      "  Downloading https://github.com/explosion/spacy-models/releases/download/en_core_web_sm-3.7.1/en_core_web_sm-3.7.1-py3-none-any.whl (12.8 MB)\n",
      "\u001b[2K     \u001b[90m━━━━━━━━━━━━━━━━━━━━━━━━━━━━━━━━━━━━━━━━\u001b[0m \u001b[32m12.8/12.8 MB\u001b[0m \u001b[31m2.7 MB/s\u001b[0m eta \u001b[36m0:00:00\u001b[0m00:01\u001b[0m00:01\u001b[0m\n",
      "\u001b[?25hRequirement already satisfied: spacy<3.8.0,>=3.7.2 in ./.conda/lib/python3.11/site-packages (from en-core-web-sm==3.7.1) (3.7.4)\n",
      "Requirement already satisfied: spacy-legacy<3.1.0,>=3.0.11 in ./.conda/lib/python3.11/site-packages (from spacy<3.8.0,>=3.7.2->en-core-web-sm==3.7.1) (3.0.12)\n",
      "Requirement already satisfied: spacy-loggers<2.0.0,>=1.0.0 in ./.conda/lib/python3.11/site-packages (from spacy<3.8.0,>=3.7.2->en-core-web-sm==3.7.1) (1.0.5)\n",
      "Requirement already satisfied: murmurhash<1.1.0,>=0.28.0 in ./.conda/lib/python3.11/site-packages (from spacy<3.8.0,>=3.7.2->en-core-web-sm==3.7.1) (1.0.10)\n",
      "Requirement already satisfied: cymem<2.1.0,>=2.0.2 in ./.conda/lib/python3.11/site-packages (from spacy<3.8.0,>=3.7.2->en-core-web-sm==3.7.1) (2.0.8)\n",
      "Requirement already satisfied: preshed<3.1.0,>=3.0.2 in ./.conda/lib/python3.11/site-packages (from spacy<3.8.0,>=3.7.2->en-core-web-sm==3.7.1) (3.0.9)\n",
      "Requirement already satisfied: thinc<8.3.0,>=8.2.2 in ./.conda/lib/python3.11/site-packages (from spacy<3.8.0,>=3.7.2->en-core-web-sm==3.7.1) (8.2.3)\n",
      "Requirement already satisfied: wasabi<1.2.0,>=0.9.1 in ./.conda/lib/python3.11/site-packages (from spacy<3.8.0,>=3.7.2->en-core-web-sm==3.7.1) (1.1.2)\n",
      "Requirement already satisfied: srsly<3.0.0,>=2.4.3 in ./.conda/lib/python3.11/site-packages (from spacy<3.8.0,>=3.7.2->en-core-web-sm==3.7.1) (2.4.8)\n",
      "Requirement already satisfied: catalogue<2.1.0,>=2.0.6 in ./.conda/lib/python3.11/site-packages (from spacy<3.8.0,>=3.7.2->en-core-web-sm==3.7.1) (2.0.10)\n",
      "Requirement already satisfied: weasel<0.4.0,>=0.1.0 in ./.conda/lib/python3.11/site-packages (from spacy<3.8.0,>=3.7.2->en-core-web-sm==3.7.1) (0.3.4)\n",
      "Requirement already satisfied: typer<0.10.0,>=0.3.0 in ./.conda/lib/python3.11/site-packages (from spacy<3.8.0,>=3.7.2->en-core-web-sm==3.7.1) (0.9.4)\n",
      "Requirement already satisfied: smart-open<7.0.0,>=5.2.1 in ./.conda/lib/python3.11/site-packages (from spacy<3.8.0,>=3.7.2->en-core-web-sm==3.7.1) (6.4.0)\n",
      "Requirement already satisfied: tqdm<5.0.0,>=4.38.0 in ./.conda/lib/python3.11/site-packages (from spacy<3.8.0,>=3.7.2->en-core-web-sm==3.7.1) (4.66.2)\n",
      "Requirement already satisfied: requests<3.0.0,>=2.13.0 in ./.conda/lib/python3.11/site-packages (from spacy<3.8.0,>=3.7.2->en-core-web-sm==3.7.1) (2.31.0)\n",
      "Requirement already satisfied: pydantic!=1.8,!=1.8.1,<3.0.0,>=1.7.4 in ./.conda/lib/python3.11/site-packages (from spacy<3.8.0,>=3.7.2->en-core-web-sm==3.7.1) (2.6.4)\n",
      "Requirement already satisfied: jinja2 in ./.conda/lib/python3.11/site-packages (from spacy<3.8.0,>=3.7.2->en-core-web-sm==3.7.1) (3.1.3)\n",
      "Requirement already satisfied: setuptools in ./.conda/lib/python3.11/site-packages (from spacy<3.8.0,>=3.7.2->en-core-web-sm==3.7.1) (68.2.2)\n",
      "Requirement already satisfied: packaging>=20.0 in ./.conda/lib/python3.11/site-packages (from spacy<3.8.0,>=3.7.2->en-core-web-sm==3.7.1) (24.0)\n",
      "Requirement already satisfied: langcodes<4.0.0,>=3.2.0 in ./.conda/lib/python3.11/site-packages (from spacy<3.8.0,>=3.7.2->en-core-web-sm==3.7.1) (3.3.0)\n",
      "Requirement already satisfied: numpy>=1.19.0 in ./.conda/lib/python3.11/site-packages (from spacy<3.8.0,>=3.7.2->en-core-web-sm==3.7.1) (1.26.4)\n",
      "Requirement already satisfied: annotated-types>=0.4.0 in ./.conda/lib/python3.11/site-packages (from pydantic!=1.8,!=1.8.1,<3.0.0,>=1.7.4->spacy<3.8.0,>=3.7.2->en-core-web-sm==3.7.1) (0.6.0)\n",
      "Requirement already satisfied: pydantic-core==2.16.3 in ./.conda/lib/python3.11/site-packages (from pydantic!=1.8,!=1.8.1,<3.0.0,>=1.7.4->spacy<3.8.0,>=3.7.2->en-core-web-sm==3.7.1) (2.16.3)\n",
      "Requirement already satisfied: typing-extensions>=4.6.1 in ./.conda/lib/python3.11/site-packages (from pydantic!=1.8,!=1.8.1,<3.0.0,>=1.7.4->spacy<3.8.0,>=3.7.2->en-core-web-sm==3.7.1) (4.10.0)\n",
      "Requirement already satisfied: charset-normalizer<4,>=2 in ./.conda/lib/python3.11/site-packages (from requests<3.0.0,>=2.13.0->spacy<3.8.0,>=3.7.2->en-core-web-sm==3.7.1) (3.3.2)\n",
      "Requirement already satisfied: idna<4,>=2.5 in ./.conda/lib/python3.11/site-packages (from requests<3.0.0,>=2.13.0->spacy<3.8.0,>=3.7.2->en-core-web-sm==3.7.1) (3.6)\n",
      "Requirement already satisfied: urllib3<3,>=1.21.1 in ./.conda/lib/python3.11/site-packages (from requests<3.0.0,>=2.13.0->spacy<3.8.0,>=3.7.2->en-core-web-sm==3.7.1) (2.2.1)\n",
      "Requirement already satisfied: certifi>=2017.4.17 in ./.conda/lib/python3.11/site-packages (from requests<3.0.0,>=2.13.0->spacy<3.8.0,>=3.7.2->en-core-web-sm==3.7.1) (2024.2.2)\n",
      "Requirement already satisfied: blis<0.8.0,>=0.7.8 in ./.conda/lib/python3.11/site-packages (from thinc<8.3.0,>=8.2.2->spacy<3.8.0,>=3.7.2->en-core-web-sm==3.7.1) (0.7.11)\n",
      "Requirement already satisfied: confection<1.0.0,>=0.0.1 in ./.conda/lib/python3.11/site-packages (from thinc<8.3.0,>=8.2.2->spacy<3.8.0,>=3.7.2->en-core-web-sm==3.7.1) (0.1.4)\n",
      "Requirement already satisfied: click<9.0.0,>=7.1.1 in ./.conda/lib/python3.11/site-packages (from typer<0.10.0,>=0.3.0->spacy<3.8.0,>=3.7.2->en-core-web-sm==3.7.1) (8.1.7)\n",
      "Requirement already satisfied: cloudpathlib<0.17.0,>=0.7.0 in ./.conda/lib/python3.11/site-packages (from weasel<0.4.0,>=0.1.0->spacy<3.8.0,>=3.7.2->en-core-web-sm==3.7.1) (0.16.0)\n",
      "Requirement already satisfied: MarkupSafe>=2.0 in ./.conda/lib/python3.11/site-packages (from jinja2->spacy<3.8.0,>=3.7.2->en-core-web-sm==3.7.1) (2.1.5)\n",
      "\u001b[38;5;2m✔ Download and installation successful\u001b[0m\n",
      "You can now load the package via spacy.load('en_core_web_sm')\n"
     ]
    }
   ],
   "source": [
    "%pip install SPARQLWrapper spacy pandas ipywidgets\n",
    "!python -m spacy download en_core_web_sm\n",
    "!mkdir -p NG_web-texts/"
   ]
  },
  {
   "cell_type": "code",
   "execution_count": 3,
   "metadata": {},
   "outputs": [],
   "source": [
    "from itertools import groupby\n",
    "import pandas as pd\n",
    "from pprint import pprint\n",
    "import spacy\n",
    "from SPARQLWrapper import SPARQLWrapper, JSON\n",
    "import time\n",
    "from tqdm.notebook import tqdm\n",
    "\n",
    "# Ensures that all dataframes are displayed on one line instead of breaking columns across multiple lines\n",
    "pd.set_option('display.expand_frame_repr', False)"
   ]
  },
  {
   "cell_type": "markdown",
   "metadata": {},
   "source": [
    "We first need to read in the text file. I have selected the in-depth description of \"Sunflowers\" by Vincent van Gogh from the [National Gallery website](https://www.nationalgallery.org.uk/paintings/vincent-van-gogh-sunflowers) but this could be any text from your research. To make viewing the content easier in this worksheet, we will split the text into paragraphs - this doesn't necessarily need to be done if you are processing text normally but it may be useful for development and testing."
   ]
  },
  {
   "cell_type": "code",
   "execution_count": 4,
   "metadata": {},
   "outputs": [
    {
     "name": "stdout",
     "output_type": "stream",
     "text": [
      "--2024-04-05 19:27:47--  https://raw.githubusercontent.com/wrmthorne/SLAF-Linked-Data-Workbook/main/NG_web-texts/sunflowers_vincent_van_gogh.txt\n",
      "Resolving raw.githubusercontent.com (raw.githubusercontent.com)... 2606:50c0:8002::154, 2606:50c0:8003::154, 2606:50c0:8000::154, ...\n",
      "Connecting to raw.githubusercontent.com (raw.githubusercontent.com)|2606:50c0:8002::154|:443... connected.\n",
      "HTTP request sent, awaiting response... 200 OK\n",
      "Length: 6355 (6.2K) [text/plain]\n",
      "Saving to: ‘NG_web-texts/sunflowers_vincent_van_gogh.txt’\n",
      "\n",
      "NG_web-texts/sunflo 100%[===================>]   6.21K  --.-KB/s    in 0.001s  \n",
      "\n",
      "2024-04-05 19:27:47 (5.43 MB/s) - ‘NG_web-texts/sunflowers_vincent_van_gogh.txt’ saved [6355/6355]\n",
      "\n",
      "('‘The sunflower is mine’, Van Gogh once declared. Soon after his death he '\n",
      " 'became known as the painter of sunflowers, an identification that endures to '\n",
      " 'this day. No other artist has been so closely associated with a specific '\n",
      " 'flower, and his sunflower pictures continue to be among Van Gogh’s most '\n",
      " 'iconic – and loved – works.\\n'\n",
      " '\\n'\n",
      " 'This painting is one of five versions of Sunflowers on display in museums '\n",
      " 'and galleries across the world, although Van Gogh painted seven versions in '\n",
      " 'total between 1888 and 1889. Of the seven, one is in a private collection '\n",
      " 'and has not been exhibited for generations. The other, bought by a Japanese '\n",
      " 'collector in 1921, was destroyed during the Second World War. In addition to '\n",
      " 'the National Gallery’s painting, the four other versions on public display '\n",
      " 'are in the Van Gogh Museum in Amsterdam, the Neue Pinakothek in Munich, the '\n",
      " 'Philadelphia Museum of Art and the Sompo Museum in Tokyo.\\n'\n",
      " '\\n'\n",
      " 'The seven pictures were made in two groups: four were painted in August 1888 '\n",
      " 'and three replicas were painted in January 1889, which Van Gogh described as '\n",
      " '‘absolutely equal and identical copies’. These copies, along with the '\n",
      " 'original paintings, were to be used as side panels to versions of his '\n",
      " 'portrait of Madame Roulin, the wife of the Arles postman. Van Gogh painted '\n",
      " 'the first four versions of his sunflowers in just one week. He worked '\n",
      " 'quickly before the flowers faded, writing to his brother Theo, ‘I am '\n",
      " 'painting with the gusto of a Marseillaise eating bouillabaisse ... If I '\n",
      " 'carry out this idea there will be a dozen panels. So the whole thing will be '\n",
      " 'a symphony in blue and yellow.’ The first two paintings to be completed were '\n",
      " 'the one now in a private collection and the painting destroyed by bombing. '\n",
      " 'The second two paintings – Fourteen Sunflowers (Munich) and the National '\n",
      " 'Gallery’s picture – are the most important of the series. Van Gogh '\n",
      " 'considered both good enough to hang and signed them ‘Vincent’, using his '\n",
      " 'first name only as people found it difficult to pronounce his last name. '\n",
      " 'They were also among the few works he felt confident enough to exhibit in '\n",
      " 'Brussels in November 1889.\\n'\n",
      " '\\n'\n",
      " 'Van Gogh had previously painted sunflower still lifes, but was prompted to '\n",
      " 'paint this series by the imminent arrival of Paul Gauguin, his friend and '\n",
      " 'fellow artist, at the ‘Yellow House’, his rented home in Arles. Van Gogh was '\n",
      " 'anxious to please his guest, who arrived on 23 October, and he knew Gauguin '\n",
      " 'liked his sunflower pictures. As he explained to Theo, ‘I would like to do a '\n",
      " 'decoration for the studio. Nothing but large Sunflowers’ (although he '\n",
      " 'changed his plans and hung two pictures – this one and the Munich painting – '\n",
      " 'in the guest room which Gauguin was to use). Van Gogh hoped that Gauguin’s '\n",
      " 'arrival would be the first step in forming a new ‘association’ of '\n",
      " 'like-minded artists, a ‘Studio in the South’. However, following a fight on '\n",
      " '23 December, when Van Gogh threatened Gauguin with a knife and then cut off '\n",
      " 'part of his own left ear, Gauguin returned to Paris. Although the friends '\n",
      " 'never saw each other again, they continued to write, and in one letter '\n",
      " 'Gauguin asked Van Gogh to make a sunflower painting for him. While living '\n",
      " 'with Van Gogh, Gauguin painted the portrait Van Gogh Painting Sunflowers '\n",
      " '(Van Gogh Museum, Amsterdam). The scene was imagined, as the sunflower '\n",
      " 'season was over and Van Gogh did not work on his sunflower pictures at all '\n",
      " 'during the two months Gauguin was in Arles.\\n'\n",
      " '\\n'\n",
      " 'Gauguin may have admired Van Gogh’s sunflowers – in 1887 he had exchanged '\n",
      " 'one of his Martinique landscapes for two of Van Gogh’s small sunflower '\n",
      " 'studies – and yellow may have been his favourite colour, but the flower also '\n",
      " 'had significance for Van Gogh himself. In this painting the 15 sunflowers '\n",
      " 'are in different stages of their life cycle, from young bud through to '\n",
      " 'maturity and eventual decay and death. The bud in the lower left corner has '\n",
      " 'yet to reach full flower, seven flowers are in full bloom and the other '\n",
      " 'seven have lost their petals and are turning to seed. Van Gogh has '\n",
      " 'brilliantly captured the textures of the flowers in these various stages. '\n",
      " 'Long strokes follow the direction of the petals, leaves and stems, whose '\n",
      " 'sinuous lines echo those of Art Nouveau; small raised dabs of stippled paint '\n",
      " 'imitate the bristling seed heads. Here, especially, Van Gogh exploited the '\n",
      " 'stiff consistency of the new oil paints introduced in the nineteenth century '\n",
      " 'to create thick impasto effects.\\n'\n",
      " '\\n'\n",
      " 'The sunflowers’ life cycle follows the vanitas tradition of '\n",
      " 'seventeenth-century Dutch flower painting, but the sunflower had also been '\n",
      " 'associated with love, both sacred and profane, since the sixteenth century. '\n",
      " 'This was because just as the sunflower turns to follow the sun, so the true '\n",
      " 'believer follows Christ and the lover follows the object of their affection. '\n",
      " 'This idea could be extended to other instances of devotion, such as the '\n",
      " 'subject who follows a leader or to the notion of art following nature. For '\n",
      " 'Van Gogh, the sunflower’s association with art and love may have included '\n",
      " 'the idea of artistic friendship or partnership, which he hoped to forge with '\n",
      " 'Gauguin. The sunflower may also have had even more personal meanings for '\n",
      " 'him. In February 1890 he wrote to the critic Albert Aurier, suggesting that '\n",
      " 'the two sunflower pictures he was exhibiting in Brussels (the Munich and '\n",
      " 'London versions) might ‘express the idea symbolising \"gratitude\".’ Symbolism '\n",
      " 'aside, sunflowers were also visually striking examples of the beauty and '\n",
      " 'vitality of nature, with which Van Gogh had always had a strong bond.\\n'\n",
      " '\\n'\n",
      " 'The paintings were also important artistic statements, not least because '\n",
      " 'they were among the first paintings Van Gogh produced in Arles that show his '\n",
      " 'signature expressive style. In this painting Van Gogh limited his palette to '\n",
      " 'just one primary colour – ‘a picture all in yellow’ as he described it – '\n",
      " 'although yellow here ranges from rich orange ochre to the pale greenish '\n",
      " 'yellow of the background. Yellow could signify happiness for Van Gogh, and '\n",
      " 'it was also the colour of Provence and a tribute to the Provençal painter '\n",
      " 'Monticelli who ‘depicted the south [of France] all in yellow, all in orange, '\n",
      " 'all in sulphur’. Van Gogh, too, has created a similar effect of incandescent '\n",
      " 'heat, particularly with the circular seed heads, which seem to stand in for '\n",
      " 'the sun itself.\\n')\n"
     ]
    }
   ],
   "source": [
    "!wget https://raw.githubusercontent.com/wrmthorne/SLAF-Linked-Data-Workbook/main/NG_web-texts/sunflowers_vincent_van_gogh.txt -O NG_web-texts/sunflowers_vincent_van_gogh.txt\n",
    "\n",
    "# Open the file and read the contents\n",
    "with open('./NG_web-texts/sunflowers_vincent_van_gogh.txt', 'r') as file:\n",
    "    text = file.read()\n",
    "\n",
    "pprint(text)\n",
    "\n",
    "# Split the text into paragraphs\n",
    "paragraphs = text.split('\\n\\n')"
   ]
  },
  {
   "cell_type": "markdown",
   "metadata": {},
   "source": [
    "## Named Entity Recognition (NER)\n",
    "\n",
    "Named entities are real-world objects that are given a name. Common NER tags are PERSON, ORGANISATION, LOCATION, etc. but not all models use the same scheme so each model may be different. Quite often we also choose to capture numerical elements or temporal elements in NER tagging as they are also well-defined, if not abstract, concepts for which we prescribe a name. To extract our named entities, we will use SpaCy which is an easy to use, general purpose NLP library for python. We'll first load the model, then pass our text through the model to obtain an annotated document. We can then list the first 10 identified named entities and their associated types.\n",
    "\n",
    "The English model for SpaCy uses the following tags (descriptions taken from [here](https://www.kaggle.com/code/curiousprogrammer/entity-extraction-and-classification-using-spacy?scriptVersionId=11364473&cellId=9))\n",
    "\n",
    "<style>\n",
    "table,td,tr,th {border:none!important}\n",
    "</style>\n",
    "\n",
    "<table width=100%>\n",
    "    <tr>\n",
    "        <td><b>PERSON</b> People, including fictional.</td>\n",
    "        <td><b>NORP</b> Nationalities or religious or political groups.</td>\n",
    "    </tr>\n",
    "    <tr>\n",
    "        <td><b>FAC</b> Buildings, airports, highways, bridges, etc.</td>\n",
    "        <td><b>ORG</b> Companies, agencies, institutions, etc.</td>\n",
    "    </tr>\n",
    "    <tr>\n",
    "        <td><b>GPE</b> Countries, cities, states.</td>\n",
    "        <td><b>LOC</b> Non-GPE locations, mountain ranges, bodies of water.</td>\n",
    "    </tr>\n",
    "    <tr>\n",
    "        <td><b>PRODUCT</b> Buildings, airports, highways, bridges, etc.</td>\n",
    "        <td><b>EVENT</b> Named hurricanes, battles, wars, sports events, etc.</td>\n",
    "    </tr>\n",
    "    <tr>\n",
    "        <td><b>WORK_OF_ART</b> Titles of books, songs, etc.</td>\n",
    "        <td><b>LAW</b> Named documents made into laws.</td>\n",
    "    </tr>\n",
    "    <tr>\n",
    "        <td><b>LANGUAGE</b> Any named language.</td>\n",
    "        <td><b>DATE</b> Absolute or relative dates or periods.</td>\n",
    "    </tr>\n",
    "    <tr>\n",
    "        <td><b>TIME</b> Times smaller than a day.</td>\n",
    "        <td><b>PERCENT</b> Percentage, including \"%\".</td>\n",
    "    </tr>\n",
    "    <tr>\n",
    "        <td><b>MONEY</b> Monetary values, including unit.</td>\n",
    "        <td><b>QUANTITY</b> Measurements, as of weight or distance.</td>\n",
    "    </tr>\n",
    "    <tr>\n",
    "        <td><b>ORDINAL</b> \"first\", \"second\", etc.</td>\n",
    "        <td><b>CARDINAL</b> Numerals that do not fall under another type.</td>\n",
    "    </tr>\n",
    "</table>"
   ]
  },
  {
   "cell_type": "code",
   "execution_count": 5,
   "metadata": {},
   "outputs": [
    {
     "name": "stdout",
     "output_type": "stream",
     "text": [
      "PERSON     Van Gogh\n",
      "DATE       this day\n",
      "PERSON     Van Gogh\n"
     ]
    }
   ],
   "source": [
    "# Uncomment this to print all the tag names from the model\n",
    "# print(nlp.get_pipe('ner').labels)\n",
    "\n",
    "# Load the spaCy model and process the paragraphs\n",
    "nlp = spacy.load('en_core_web_sm')\n",
    "docs = [nlp(paragraph) for paragraph in paragraphs]\n",
    "\n",
    "# List the entities and their types from the first paragraph\n",
    "for entity in docs[0].ents:\n",
    "    print(f'{entity.label_:10} {entity.text}')"
   ]
  },
  {
   "cell_type": "markdown",
   "metadata": {},
   "source": [
    "We can visualise the annotations using the [displacy](https://spacy.io/api/top-level#displacy) sub-module from spacy. This very clearly allows us to see the annotations that SpaCy has identified. It also allows us to inspect the accuracy. NER tagging is not a perfect process and is entirely dependent on the quality and suitability of the model used. The SpaCy model is very fast, cheap and general purpose but this comes at the cost of accuracy and suitability to our specific domain of cultural heritage. In this paragraph, we can already see one mistake from the model: the artwork \"sunflowers\" is not identified using the `WORK_OF_ART` tag as it should have been. \n",
    "\n",
    "Some potential fixes for this could be to use a better model from SpaCy such as `en_core_web_lg` and hope that performs better, use more complicated tools such as [huggingface transformers](https://huggingface.co/docs/transformers/en/index), or, most simply, perform some manual work to fill in incomplete annotations and correct errors.\n",
    "\n",
    "Feel free to change the document number to inspect each paragraph's annotations."
   ]
  },
  {
   "cell_type": "code",
   "execution_count": 6,
   "metadata": {},
   "outputs": [
    {
     "data": {
      "text/html": [
       "<span class=\"tex2jax_ignore\"><div class=\"entities\" style=\"line-height: 2.5; direction: ltr\">‘The sunflower is mine’, \n",
       "<mark class=\"entity\" style=\"background: #aa9cfc; padding: 0.45em 0.6em; margin: 0 0.25em; line-height: 1; border-radius: 0.35em;\">\n",
       "    Van Gogh\n",
       "    <span style=\"font-size: 0.8em; font-weight: bold; line-height: 1; border-radius: 0.35em; vertical-align: middle; margin-left: 0.5rem\">PERSON</span>\n",
       "</mark>\n",
       " once declared. Soon after his death he became known as the painter of sunflowers, an identification that endures to \n",
       "<mark class=\"entity\" style=\"background: #bfe1d9; padding: 0.45em 0.6em; margin: 0 0.25em; line-height: 1; border-radius: 0.35em;\">\n",
       "    this day\n",
       "    <span style=\"font-size: 0.8em; font-weight: bold; line-height: 1; border-radius: 0.35em; vertical-align: middle; margin-left: 0.5rem\">DATE</span>\n",
       "</mark>\n",
       ". No other artist has been so closely associated with a specific flower, and his sunflower pictures continue to be among \n",
       "<mark class=\"entity\" style=\"background: #aa9cfc; padding: 0.45em 0.6em; margin: 0 0.25em; line-height: 1; border-radius: 0.35em;\">\n",
       "    Van Gogh\n",
       "    <span style=\"font-size: 0.8em; font-weight: bold; line-height: 1; border-radius: 0.35em; vertical-align: middle; margin-left: 0.5rem\">PERSON</span>\n",
       "</mark>\n",
       "’s most iconic – and loved – works.</div></span>"
      ],
      "text/plain": [
       "<IPython.core.display.HTML object>"
      ]
     },
     "metadata": {},
     "output_type": "display_data"
    }
   ],
   "source": [
    "spacy.displacy.render(docs[0], style='ent', jupyter=True)"
   ]
  },
  {
   "cell_type": "markdown",
   "metadata": {},
   "source": [
    "## Grounding Our Entities"
   ]
  },
  {
   "cell_type": "markdown",
   "metadata": {},
   "source": [
    "When grounding our entities, there are some preprocessing steps we might want to do for a number of reasons. The first is that we want to extract just the entities from the text to query. Next, we might want to find all unique (entity, label) combinations to reduce the number of queries we have to make. Finally, we can group the entities by their type so we can select the entity types we want to search for."
   ]
  },
  {
   "cell_type": "code",
   "execution_count": 7,
   "metadata": {},
   "outputs": [
    {
     "name": "stdout",
     "output_type": "stream",
     "text": [
      "Found 119 entities in the text.\n",
      "Found 65 unique entities in the text.\n",
      "\n",
      "CARDINAL     8\n",
      "DATE         16\n",
      "EVENT        1\n",
      "FAC          5\n",
      "GPE          10\n",
      "LOC          1\n",
      "NORP         3\n",
      "ORDINAL      2\n",
      "ORG          8\n",
      "PERSON       10\n",
      "WORK_OF_ART  1\n"
     ]
    }
   ],
   "source": [
    "# Extract (entity, label) pairs from all the documents\n",
    "all_ents = [(entity.text, entity.label_) for doc in docs for entity in doc.ents]\n",
    "\n",
    "# Remove any duplicates by converting the list to a set\n",
    "unique_ents = set(all_ents)\n",
    "\n",
    "# Group the entities by their labels - must be sorted first\n",
    "grouped_ents = groupby(sorted(unique_ents, key=lambda x: x[1]), key=lambda x: x[1])\n",
    "grouped_ents = {label: [ent[0] for ent in ents] for label, ents in grouped_ents}\n",
    "\n",
    "print(f'Found {len(all_ents)} entities in the text.')\n",
    "print(f'Found {len(unique_ents)} unique entities in the text.', end='\\n\\n')\n",
    "\n",
    "for label, group in grouped_ents.items():\n",
    "    print(f'{label:12} {len(list(group))}')"
   ]
  },
  {
   "cell_type": "markdown",
   "metadata": {},
   "source": [
    "Some of these entity types are not groundable with the sources we will use or not particular interesting to ground in our use-case. For this example, we are mostly interested in actors, objects or events for this project, hence we can exclude numerical entities and date/time."
   ]
  },
  {
   "cell_type": "code",
   "execution_count": 8,
   "metadata": {},
   "outputs": [
    {
     "name": "stdout",
     "output_type": "stream",
     "text": [
      "PERSON       10\n",
      "LOC          1\n",
      "NORP         3\n",
      "WORK_OF_ART  1\n",
      "FAC          5\n",
      "GPE          10\n",
      "ORG          8\n",
      "EVENT        1\n"
     ]
    }
   ],
   "source": [
    "# Define subset of entity types to keep\n",
    "ents_to_keep = ('EVENT', 'FAC', 'LOC', 'GPE', 'ORG', 'PERSON', 'NORP', 'WORK_OF_ART')\n",
    "\n",
    "# Filter the grouped entities to only keep those in the subset\n",
    "filtered_groups = {label: grouped_ents[label] for label in grouped_ents.keys() & ents_to_keep}\n",
    "\n",
    "for label, group in filtered_groups.items():\n",
    "    print(f'{label:12} {len(list(group))}')"
   ]
  },
  {
   "cell_type": "markdown",
   "metadata": {},
   "source": [
    "### Getty Vocabularies\n",
    "\n",
    "To disambiguate artists, we will use the [Getty vocabularies ULAN](https://www.getty.edu/research/tools/vocabularies/ulan/) database which records biographical information for artists, architects, firms, studios, repositories, and patrons. The Getty Vocabularies also contains the Art & Architecture Thesaurus (AAT), Thesaurus of Geographic Names (TGN), Cultural Objects Name Authority (CONA), Iconography Authority (IA), and Categories for the Descriptions of Works of Art (CDWA). Descriptions and links to each of these databases can be found [here](https://www.getty.edu/research/tools/vocabularies/index.html).\n",
    "\n",
    "To access their SPARQL endpoint in python, we will use the [SPARQLWrapper](https://sparqlwrapper.readthedocs.io/en/stable/main.html) library for Python which handles the formatting of our SPARQL queries into http requests and resolves them for us. This allows us to focus on requesting the data that we want, rather than the implementation itself. We first create an instance of SPARQLWrapper that is instructed to query Getty Vocabularies and we set the return format to JSON to easily handle in Python. We will also make use of [pandas](https://pandas.pydata.org/) to help us nicely tabulate the data for presentation. Pandas is also a very powerful data manipulation library for if we wanted to perform some post-processing."
   ]
  },
  {
   "cell_type": "code",
   "execution_count": 9,
   "metadata": {},
   "outputs": [],
   "source": [
    "sparql = SPARQLWrapper('https://vocab.getty.edu/sparql')\n",
    "sparql.setReturnFormat(JSON)"
   ]
  },
  {
   "cell_type": "markdown",
   "metadata": {},
   "source": [
    "We can then write our SPARQL query with each of the names from the PERSON category. As covered, everything in a linked data triple has a URI and the predicate is no exception. \n",
    "\n",
    "* **Simple Knowledge Organization System** ([SKOS](https://www.w3.org/2004/02/skos/)) is a commonly used model for expressing basic structure in Linked-Data schemas.\n",
    "* SKOS has the **eXtension for Labels** ([SKOS-XL](https://www.w3.org/2006/07/SWD/wiki/SkosDesign/SKOS-XL.html)) extension which enables representation of concepts with labels in different languages, synonyms and other lexical forms. \n",
    "* **Resource Description Framework Schema** ([RDFS](https://www.w3.org/TR/rdf-schema/)) is a foundational language for describing vocabularies and building ontologies for the semantic web. "
   ]
  },
  {
   "cell_type": "code",
   "execution_count": 10,
   "metadata": {},
   "outputs": [
    {
     "data": {
      "application/vnd.jupyter.widget-view+json": {
       "model_id": "4d5dca4f14f34c50a68c68dc977f7276",
       "version_major": 2,
       "version_minor": 0
      },
      "text/plain": [
       "  0%|          | 0/10 [00:00<?, ?it/s]"
      ]
     },
     "metadata": {},
     "output_type": "display_data"
    }
   ],
   "source": [
    "query = '''\n",
    "SELECT DISTINCT ?person ?preferredName\n",
    "WHERE {\n",
    "    ?person skos:inScheme ulan: ; \n",
    "            rdfs:label \"%s\" ;\n",
    "            gvp:prefLabelGVP [ xl:literalForm ?preferredName ] .\n",
    "}\n",
    "'''\n",
    "\n",
    "def run_single_queries(query, people):\n",
    "    results = []\n",
    "\n",
    "    # Create progress bar\n",
    "    with tqdm(total=len(people)) as pbar:\n",
    "        # Run the defined query with each uniquely identified person\n",
    "        for person in people:\n",
    "            pbar.set_description(f'Querying for {person}')\n",
    "\n",
    "            # Use Python string formatting to replace %s with person\n",
    "            sparql.setQuery(query % person)\n",
    "            result = sparql.queryAndConvert()\n",
    "\n",
    "            # Create table for the results of the query\n",
    "            result_parsed = pd.json_normalize(result['results']['bindings'])\n",
    "            result_parsed['person'] = person\n",
    "            results.append(result_parsed.set_index(['person', result_parsed.index]))\n",
    "\n",
    "            pbar.update(1)\n",
    "\n",
    "    return pd.concat(results)\n",
    "\n",
    "single_start = time.time()\n",
    "singles_results = run_single_queries(query, filtered_groups['PERSON'])\n",
    "single_end = time.time()"
   ]
  },
  {
   "cell_type": "markdown",
   "metadata": {},
   "source": [
    "We can now view the data. One thing to immediately notice is that, despite the text being about van Gogh, no entities were identified. If we inspect the names representing [van Gogh on ULAN](https://www.getty.edu/vow/ULANFullDisplay?find=vincent+van+gogh&role=&nation=&prev_page=1&subjectid=500115588), we can see that there is an all lower-case representation \"van gogh\" but not the capitalised \"Van Gogh\" found in this text. This is an important not to know the database you are referencing against before relying on it. \n",
    "\n",
    "The other issue is that some entities are too ambiguous from just the word. We can infer from the context of the work that \"Theo\" is [Theo van Gogh](https://www.getty.edu/vow/ULANFullDisplay?find=van+gogh&role=&nation=&page=1&subjectid=500339434) but given the limited context, the query has defined the entity as being \"Unidentified Named People and Firms\". For Monticelli, three different potential entities have been identified because of the ambiguity of only using a last name. Using the time-period of van Gogh's life, we can infer that [Monticelli, Adolphe](https://www.getty.edu/vow/ULANServlet?english=Y&find=Monticelli%2C+Adolphe&role=&page=1&nation=) is the more likely candidate given that they were alive at the same time as van Gogh, whereas [Monticelli, Andrea](https://www.getty.edu/vow/ULANServlet?english=Y&find=Monticelli%2C+Andrea&role=&page=1&nation=) over a century prior. "
   ]
  },
  {
   "cell_type": "code",
   "execution_count": 11,
   "metadata": {},
   "outputs": [
    {
     "data": {
      "text/html": [
       "<div>\n",
       "<style scoped>\n",
       "    .dataframe tbody tr th:only-of-type {\n",
       "        vertical-align: middle;\n",
       "    }\n",
       "\n",
       "    .dataframe tbody tr th {\n",
       "        vertical-align: top;\n",
       "    }\n",
       "\n",
       "    .dataframe thead th {\n",
       "        text-align: right;\n",
       "    }\n",
       "</style>\n",
       "<table border=\"1\" class=\"dataframe\">\n",
       "  <thead>\n",
       "    <tr style=\"text-align: right;\">\n",
       "      <th></th>\n",
       "      <th></th>\n",
       "      <th>person.type</th>\n",
       "      <th>person.value</th>\n",
       "      <th>preferredName.type</th>\n",
       "      <th>preferredName.value</th>\n",
       "      <th>preferredName.xml:lang</th>\n",
       "    </tr>\n",
       "    <tr>\n",
       "      <th>person</th>\n",
       "      <th></th>\n",
       "      <th></th>\n",
       "      <th></th>\n",
       "      <th></th>\n",
       "      <th></th>\n",
       "      <th></th>\n",
       "    </tr>\n",
       "  </thead>\n",
       "  <tbody>\n",
       "    <tr>\n",
       "      <th rowspan=\"3\" valign=\"top\">Monticelli</th>\n",
       "      <th>0</th>\n",
       "      <td>uri</td>\n",
       "      <td>http://vocab.getty.edu/ulan/500431065</td>\n",
       "      <td>literal</td>\n",
       "      <td>Monticelli</td>\n",
       "      <td>NaN</td>\n",
       "    </tr>\n",
       "    <tr>\n",
       "      <th>1</th>\n",
       "      <td>uri</td>\n",
       "      <td>http://vocab.getty.edu/ulan/500000984</td>\n",
       "      <td>literal</td>\n",
       "      <td>Monticelli, Adolphe</td>\n",
       "      <td>nl</td>\n",
       "    </tr>\n",
       "    <tr>\n",
       "      <th>2</th>\n",
       "      <td>uri</td>\n",
       "      <td>http://vocab.getty.edu/ulan/500050589</td>\n",
       "      <td>literal</td>\n",
       "      <td>Monticelli, Andrea</td>\n",
       "      <td>nl</td>\n",
       "    </tr>\n",
       "    <tr>\n",
       "      <th>Albert Aurier</th>\n",
       "      <th>0</th>\n",
       "      <td>uri</td>\n",
       "      <td>http://vocab.getty.edu/ulan/500313658</td>\n",
       "      <td>literal</td>\n",
       "      <td>Aurier, Albert</td>\n",
       "      <td>NaN</td>\n",
       "    </tr>\n",
       "    <tr>\n",
       "      <th>Paul Gauguin</th>\n",
       "      <th>0</th>\n",
       "      <td>uri</td>\n",
       "      <td>http://vocab.getty.edu/ulan/500011421</td>\n",
       "      <td>literal</td>\n",
       "      <td>Gauguin, Paul</td>\n",
       "      <td>en</td>\n",
       "    </tr>\n",
       "    <tr>\n",
       "      <th>Gauguin</th>\n",
       "      <th>0</th>\n",
       "      <td>uri</td>\n",
       "      <td>http://vocab.getty.edu/ulan/500011421</td>\n",
       "      <td>literal</td>\n",
       "      <td>Gauguin, Paul</td>\n",
       "      <td>en</td>\n",
       "    </tr>\n",
       "    <tr>\n",
       "      <th rowspan=\"2\" valign=\"top\">Theo</th>\n",
       "      <th>0</th>\n",
       "      <td>uri</td>\n",
       "      <td>http://vocab.getty.edu/ulan/500396193</td>\n",
       "      <td>literal</td>\n",
       "      <td>Theo</td>\n",
       "      <td>NaN</td>\n",
       "    </tr>\n",
       "    <tr>\n",
       "      <th>1</th>\n",
       "      <td>uri</td>\n",
       "      <td>http://vocab.getty.edu/ulan/500174401</td>\n",
       "      <td>literal</td>\n",
       "      <td>Theo</td>\n",
       "      <td>NaN</td>\n",
       "    </tr>\n",
       "  </tbody>\n",
       "</table>\n",
       "</div>"
      ],
      "text/plain": [
       "                person.type                           person.value preferredName.type  preferredName.value preferredName.xml:lang\n",
       "person                                                                                                                           \n",
       "Monticelli    0         uri  http://vocab.getty.edu/ulan/500431065            literal           Monticelli                    NaN\n",
       "              1         uri  http://vocab.getty.edu/ulan/500000984            literal  Monticelli, Adolphe                     nl\n",
       "              2         uri  http://vocab.getty.edu/ulan/500050589            literal   Monticelli, Andrea                     nl\n",
       "Albert Aurier 0         uri  http://vocab.getty.edu/ulan/500313658            literal       Aurier, Albert                    NaN\n",
       "Paul Gauguin  0         uri  http://vocab.getty.edu/ulan/500011421            literal        Gauguin, Paul                     en\n",
       "Gauguin       0         uri  http://vocab.getty.edu/ulan/500011421            literal        Gauguin, Paul                     en\n",
       "Theo          0         uri  http://vocab.getty.edu/ulan/500396193            literal                 Theo                    NaN\n",
       "              1         uri  http://vocab.getty.edu/ulan/500174401            literal                 Theo                    NaN"
      ]
     },
     "execution_count": 11,
     "metadata": {},
     "output_type": "execute_result"
    }
   ],
   "source": [
    "singles_results"
   ]
  },
  {
   "cell_type": "markdown",
   "metadata": {},
   "source": [
    "### Optional Exercise\n",
    "\n",
    "**Question 1**: Convert the previous query to perform a case-insentive search for artists names using only SPARQL.\n",
    "\n",
    "<details>\n",
    "<summary>Hint 1</summary>\n",
    "\n",
    "To ignore case, you can set both the user provided term and term in the database to be either upper-case (UCASE) or lower-case (LCASE).\n",
    "\n",
    "</details>\n",
    "\n",
    "<details>\n",
    "<summary>Hint 2</summary>\n",
    "\n",
    "You can use [FILTER](https://www.codingame.com/playgrounds/35974/an-introduction-to-rdf-querying-in-sparql/filters) to perform the conversion.\n",
    "\n",
    "</details>\n",
    "\n",
    "<details>\n",
    "<summary>Solution 1</summary>\n",
    "\n",
    "```python\n",
    "no_case_query = '''\n",
    "SELECT DISTINCT ?person ?preferredName\n",
    "WHERE {\n",
    "    ?person skos:inScheme ulan: ; \n",
    "            rdfs:label ?label ;\n",
    "            gvp:prefLabelGVP [ xl:literalForm ?preferredName ] .\n",
    "\n",
    "    FILTER (LCASE(STR(?label)) = LCASE(STR(\"%s\")))\n",
    "}\n",
    "'''\n",
    "```\n",
    "\n",
    "</details>\n",
    "\n",
    "**Question 2**: You should notice that the query runs much slower than when we didn't run a case insensitive search. Can you think of why this might be? Can you think of a different approach we could take to make this run faster?\n",
    "\n",
    "<details>\n",
    "<summary>Solution 2</summary>\n",
    "\n",
    "The query runs much slower because the term we are providing is now unbound so requires scanning all statements with `rdfs:label`. In the non-case-normalised example, this predicate was bound to a specific resource so the number of elements to compare against was much lower, hence, faster.\n",
    "\n",
    "A potential solution to this problem is to use an external text index if it exists for the server. However, the easiest option is to do your case-normalisation and any other preprocessing before you make your query.\n",
    "\n",
    "</details>"
   ]
  },
  {
   "cell_type": "code",
   "execution_count": null,
   "metadata": {},
   "outputs": [
    {
     "data": {
      "application/vnd.jupyter.widget-view+json": {
       "model_id": "64dbe8ff51c54ab8a8fc459703be201f",
       "version_major": 2,
       "version_minor": 0
      },
      "text/plain": [
       "  0%|          | 0/10 [00:00<?, ?it/s]"
      ]
     },
     "metadata": {},
     "output_type": "display_data"
    },
    {
     "ename": "KeyboardInterrupt",
     "evalue": "",
     "output_type": "error",
     "traceback": [
      "\u001b[0;31m---------------------------------------------------------------------------\u001b[0m",
      "\u001b[0;31mKeyboardInterrupt\u001b[0m                         Traceback (most recent call last)",
      "Cell \u001b[0;32mIn[22], line 12\u001b[0m\n\u001b[1;32m      1\u001b[0m no_case_query \u001b[38;5;241m=\u001b[39m \u001b[38;5;124m'''\u001b[39m\n\u001b[1;32m      2\u001b[0m \u001b[38;5;124mSELECT DISTINCT ?person ?preferredName\u001b[39m\n\u001b[1;32m      3\u001b[0m \u001b[38;5;124mWHERE \u001b[39m\u001b[38;5;124m{\u001b[39m\n\u001b[0;32m   (...)\u001b[0m\n\u001b[1;32m      9\u001b[0m \u001b[38;5;124m}\u001b[39m\n\u001b[1;32m     10\u001b[0m \u001b[38;5;124m'''\u001b[39m\n\u001b[0;32m---> 12\u001b[0m \u001b[43mrun_single_queries\u001b[49m\u001b[43m(\u001b[49m\u001b[43mno_case_query\u001b[49m\u001b[43m,\u001b[49m\u001b[43m \u001b[49m\u001b[43mfiltered_groups\u001b[49m\u001b[43m[\u001b[49m\u001b[38;5;124;43m'\u001b[39;49m\u001b[38;5;124;43mPERSON\u001b[39;49m\u001b[38;5;124;43m'\u001b[39;49m\u001b[43m]\u001b[49m\u001b[43m)\u001b[49m\n",
      "Cell \u001b[0;32mIn[9], line 21\u001b[0m, in \u001b[0;36mrun_single_queries\u001b[0;34m(query, people)\u001b[0m\n\u001b[1;32m     19\u001b[0m \u001b[38;5;66;03m# Use Python string formatting to replace %s with person\u001b[39;00m\n\u001b[1;32m     20\u001b[0m sparql\u001b[38;5;241m.\u001b[39msetQuery(query \u001b[38;5;241m%\u001b[39m person)\n\u001b[0;32m---> 21\u001b[0m result \u001b[38;5;241m=\u001b[39m \u001b[43msparql\u001b[49m\u001b[38;5;241;43m.\u001b[39;49m\u001b[43mqueryAndConvert\u001b[49m\u001b[43m(\u001b[49m\u001b[43m)\u001b[49m\n\u001b[1;32m     23\u001b[0m \u001b[38;5;66;03m# Create table for the results of the query\u001b[39;00m\n\u001b[1;32m     24\u001b[0m result_parsed \u001b[38;5;241m=\u001b[39m pd\u001b[38;5;241m.\u001b[39mjson_normalize(result[\u001b[38;5;124m'\u001b[39m\u001b[38;5;124mresults\u001b[39m\u001b[38;5;124m'\u001b[39m][\u001b[38;5;124m'\u001b[39m\u001b[38;5;124mbindings\u001b[39m\u001b[38;5;124m'\u001b[39m])\n",
      "File \u001b[0;32m~/Documents/university/SLAF-Linked-Data-Workbook/.conda/lib/python3.11/site-packages/SPARQLWrapper/Wrapper.py:967\u001b[0m, in \u001b[0;36mSPARQLWrapper.queryAndConvert\u001b[0;34m(self)\u001b[0m\n\u001b[1;32m    962\u001b[0m \u001b[38;5;28;01mdef\u001b[39;00m \u001b[38;5;21mqueryAndConvert\u001b[39m(\u001b[38;5;28mself\u001b[39m) \u001b[38;5;241m-\u001b[39m\u001b[38;5;241m>\u001b[39m \u001b[38;5;124m\"\u001b[39m\u001b[38;5;124mQueryResult.ConvertResult\u001b[39m\u001b[38;5;124m\"\u001b[39m:\n\u001b[1;32m    963\u001b[0m \u001b[38;5;250m    \u001b[39m\u001b[38;5;124;03m\"\"\"Macro like method: issue a query and return the converted results.\u001b[39;00m\n\u001b[1;32m    964\u001b[0m \n\u001b[1;32m    965\u001b[0m \u001b[38;5;124;03m    :return: the converted query result. See the conversion methods for more details.\u001b[39;00m\n\u001b[1;32m    966\u001b[0m \u001b[38;5;124;03m    \"\"\"\u001b[39;00m\n\u001b[0;32m--> 967\u001b[0m     res \u001b[38;5;241m=\u001b[39m \u001b[38;5;28;43mself\u001b[39;49m\u001b[38;5;241;43m.\u001b[39;49m\u001b[43mquery\u001b[49m\u001b[43m(\u001b[49m\u001b[43m)\u001b[49m\n\u001b[1;32m    968\u001b[0m     \u001b[38;5;28;01mreturn\u001b[39;00m res\u001b[38;5;241m.\u001b[39mconvert()\n",
      "File \u001b[0;32m~/Documents/university/SLAF-Linked-Data-Workbook/.conda/lib/python3.11/site-packages/SPARQLWrapper/Wrapper.py:960\u001b[0m, in \u001b[0;36mSPARQLWrapper.query\u001b[0;34m(self)\u001b[0m\n\u001b[1;32m    942\u001b[0m \u001b[38;5;28;01mdef\u001b[39;00m \u001b[38;5;21mquery\u001b[39m(\u001b[38;5;28mself\u001b[39m) \u001b[38;5;241m-\u001b[39m\u001b[38;5;241m>\u001b[39m \u001b[38;5;124m\"\u001b[39m\u001b[38;5;124mQueryResult\u001b[39m\u001b[38;5;124m\"\u001b[39m:\n\u001b[1;32m    943\u001b[0m \u001b[38;5;250m    \u001b[39m\u001b[38;5;124;03m\"\"\"\u001b[39;00m\n\u001b[1;32m    944\u001b[0m \u001b[38;5;124;03m    Execute the query.\u001b[39;00m\n\u001b[1;32m    945\u001b[0m \u001b[38;5;124;03m    Exceptions can be raised if either the URI is wrong or the HTTP sends back an error (this is also the\u001b[39;00m\n\u001b[0;32m   (...)\u001b[0m\n\u001b[1;32m    958\u001b[0m \u001b[38;5;124;03m    :rtype: :class:`QueryResult` instance\u001b[39;00m\n\u001b[1;32m    959\u001b[0m \u001b[38;5;124;03m    \"\"\"\u001b[39;00m\n\u001b[0;32m--> 960\u001b[0m     \u001b[38;5;28;01mreturn\u001b[39;00m QueryResult(\u001b[38;5;28;43mself\u001b[39;49m\u001b[38;5;241;43m.\u001b[39;49m\u001b[43m_query\u001b[49m\u001b[43m(\u001b[49m\u001b[43m)\u001b[49m)\n",
      "File \u001b[0;32m~/Documents/university/SLAF-Linked-Data-Workbook/.conda/lib/python3.11/site-packages/SPARQLWrapper/Wrapper.py:926\u001b[0m, in \u001b[0;36mSPARQLWrapper._query\u001b[0;34m(self)\u001b[0m\n\u001b[1;32m    924\u001b[0m         response \u001b[38;5;241m=\u001b[39m urlopener(request, timeout\u001b[38;5;241m=\u001b[39m\u001b[38;5;28mself\u001b[39m\u001b[38;5;241m.\u001b[39mtimeout)\n\u001b[1;32m    925\u001b[0m     \u001b[38;5;28;01melse\u001b[39;00m:\n\u001b[0;32m--> 926\u001b[0m         response \u001b[38;5;241m=\u001b[39m \u001b[43murlopener\u001b[49m\u001b[43m(\u001b[49m\u001b[43mrequest\u001b[49m\u001b[43m)\u001b[49m\n\u001b[1;32m    927\u001b[0m     \u001b[38;5;28;01mreturn\u001b[39;00m response, \u001b[38;5;28mself\u001b[39m\u001b[38;5;241m.\u001b[39mreturnFormat\n\u001b[1;32m    928\u001b[0m \u001b[38;5;28;01mexcept\u001b[39;00m urllib\u001b[38;5;241m.\u001b[39merror\u001b[38;5;241m.\u001b[39mHTTPError \u001b[38;5;28;01mas\u001b[39;00m e:\n",
      "File \u001b[0;32m~/Documents/university/SLAF-Linked-Data-Workbook/.conda/lib/python3.11/urllib/request.py:216\u001b[0m, in \u001b[0;36murlopen\u001b[0;34m(url, data, timeout, cafile, capath, cadefault, context)\u001b[0m\n\u001b[1;32m    214\u001b[0m \u001b[38;5;28;01melse\u001b[39;00m:\n\u001b[1;32m    215\u001b[0m     opener \u001b[38;5;241m=\u001b[39m _opener\n\u001b[0;32m--> 216\u001b[0m \u001b[38;5;28;01mreturn\u001b[39;00m \u001b[43mopener\u001b[49m\u001b[38;5;241;43m.\u001b[39;49m\u001b[43mopen\u001b[49m\u001b[43m(\u001b[49m\u001b[43murl\u001b[49m\u001b[43m,\u001b[49m\u001b[43m \u001b[49m\u001b[43mdata\u001b[49m\u001b[43m,\u001b[49m\u001b[43m \u001b[49m\u001b[43mtimeout\u001b[49m\u001b[43m)\u001b[49m\n",
      "File \u001b[0;32m~/Documents/university/SLAF-Linked-Data-Workbook/.conda/lib/python3.11/urllib/request.py:519\u001b[0m, in \u001b[0;36mOpenerDirector.open\u001b[0;34m(self, fullurl, data, timeout)\u001b[0m\n\u001b[1;32m    516\u001b[0m     req \u001b[38;5;241m=\u001b[39m meth(req)\n\u001b[1;32m    518\u001b[0m sys\u001b[38;5;241m.\u001b[39maudit(\u001b[38;5;124m'\u001b[39m\u001b[38;5;124murllib.Request\u001b[39m\u001b[38;5;124m'\u001b[39m, req\u001b[38;5;241m.\u001b[39mfull_url, req\u001b[38;5;241m.\u001b[39mdata, req\u001b[38;5;241m.\u001b[39mheaders, req\u001b[38;5;241m.\u001b[39mget_method())\n\u001b[0;32m--> 519\u001b[0m response \u001b[38;5;241m=\u001b[39m \u001b[38;5;28;43mself\u001b[39;49m\u001b[38;5;241;43m.\u001b[39;49m\u001b[43m_open\u001b[49m\u001b[43m(\u001b[49m\u001b[43mreq\u001b[49m\u001b[43m,\u001b[49m\u001b[43m \u001b[49m\u001b[43mdata\u001b[49m\u001b[43m)\u001b[49m\n\u001b[1;32m    521\u001b[0m \u001b[38;5;66;03m# post-process response\u001b[39;00m\n\u001b[1;32m    522\u001b[0m meth_name \u001b[38;5;241m=\u001b[39m protocol\u001b[38;5;241m+\u001b[39m\u001b[38;5;124m\"\u001b[39m\u001b[38;5;124m_response\u001b[39m\u001b[38;5;124m\"\u001b[39m\n",
      "File \u001b[0;32m~/Documents/university/SLAF-Linked-Data-Workbook/.conda/lib/python3.11/urllib/request.py:536\u001b[0m, in \u001b[0;36mOpenerDirector._open\u001b[0;34m(self, req, data)\u001b[0m\n\u001b[1;32m    533\u001b[0m     \u001b[38;5;28;01mreturn\u001b[39;00m result\n\u001b[1;32m    535\u001b[0m protocol \u001b[38;5;241m=\u001b[39m req\u001b[38;5;241m.\u001b[39mtype\n\u001b[0;32m--> 536\u001b[0m result \u001b[38;5;241m=\u001b[39m \u001b[38;5;28;43mself\u001b[39;49m\u001b[38;5;241;43m.\u001b[39;49m\u001b[43m_call_chain\u001b[49m\u001b[43m(\u001b[49m\u001b[38;5;28;43mself\u001b[39;49m\u001b[38;5;241;43m.\u001b[39;49m\u001b[43mhandle_open\u001b[49m\u001b[43m,\u001b[49m\u001b[43m \u001b[49m\u001b[43mprotocol\u001b[49m\u001b[43m,\u001b[49m\u001b[43m \u001b[49m\u001b[43mprotocol\u001b[49m\u001b[43m \u001b[49m\u001b[38;5;241;43m+\u001b[39;49m\n\u001b[1;32m    537\u001b[0m \u001b[43m                          \u001b[49m\u001b[38;5;124;43m'\u001b[39;49m\u001b[38;5;124;43m_open\u001b[39;49m\u001b[38;5;124;43m'\u001b[39;49m\u001b[43m,\u001b[49m\u001b[43m \u001b[49m\u001b[43mreq\u001b[49m\u001b[43m)\u001b[49m\n\u001b[1;32m    538\u001b[0m \u001b[38;5;28;01mif\u001b[39;00m result:\n\u001b[1;32m    539\u001b[0m     \u001b[38;5;28;01mreturn\u001b[39;00m result\n",
      "File \u001b[0;32m~/Documents/university/SLAF-Linked-Data-Workbook/.conda/lib/python3.11/urllib/request.py:496\u001b[0m, in \u001b[0;36mOpenerDirector._call_chain\u001b[0;34m(self, chain, kind, meth_name, *args)\u001b[0m\n\u001b[1;32m    494\u001b[0m \u001b[38;5;28;01mfor\u001b[39;00m handler \u001b[38;5;129;01min\u001b[39;00m handlers:\n\u001b[1;32m    495\u001b[0m     func \u001b[38;5;241m=\u001b[39m \u001b[38;5;28mgetattr\u001b[39m(handler, meth_name)\n\u001b[0;32m--> 496\u001b[0m     result \u001b[38;5;241m=\u001b[39m \u001b[43mfunc\u001b[49m\u001b[43m(\u001b[49m\u001b[38;5;241;43m*\u001b[39;49m\u001b[43margs\u001b[49m\u001b[43m)\u001b[49m\n\u001b[1;32m    497\u001b[0m     \u001b[38;5;28;01mif\u001b[39;00m result \u001b[38;5;129;01mis\u001b[39;00m \u001b[38;5;129;01mnot\u001b[39;00m \u001b[38;5;28;01mNone\u001b[39;00m:\n\u001b[1;32m    498\u001b[0m         \u001b[38;5;28;01mreturn\u001b[39;00m result\n",
      "File \u001b[0;32m~/Documents/university/SLAF-Linked-Data-Workbook/.conda/lib/python3.11/urllib/request.py:1391\u001b[0m, in \u001b[0;36mHTTPSHandler.https_open\u001b[0;34m(self, req)\u001b[0m\n\u001b[1;32m   1390\u001b[0m \u001b[38;5;28;01mdef\u001b[39;00m \u001b[38;5;21mhttps_open\u001b[39m(\u001b[38;5;28mself\u001b[39m, req):\n\u001b[0;32m-> 1391\u001b[0m     \u001b[38;5;28;01mreturn\u001b[39;00m \u001b[38;5;28;43mself\u001b[39;49m\u001b[38;5;241;43m.\u001b[39;49m\u001b[43mdo_open\u001b[49m\u001b[43m(\u001b[49m\u001b[43mhttp\u001b[49m\u001b[38;5;241;43m.\u001b[39;49m\u001b[43mclient\u001b[49m\u001b[38;5;241;43m.\u001b[39;49m\u001b[43mHTTPSConnection\u001b[49m\u001b[43m,\u001b[49m\u001b[43m \u001b[49m\u001b[43mreq\u001b[49m\u001b[43m,\u001b[49m\n\u001b[1;32m   1392\u001b[0m \u001b[43m        \u001b[49m\u001b[43mcontext\u001b[49m\u001b[38;5;241;43m=\u001b[39;49m\u001b[38;5;28;43mself\u001b[39;49m\u001b[38;5;241;43m.\u001b[39;49m\u001b[43m_context\u001b[49m\u001b[43m,\u001b[49m\u001b[43m \u001b[49m\u001b[43mcheck_hostname\u001b[49m\u001b[38;5;241;43m=\u001b[39;49m\u001b[38;5;28;43mself\u001b[39;49m\u001b[38;5;241;43m.\u001b[39;49m\u001b[43m_check_hostname\u001b[49m\u001b[43m)\u001b[49m\n",
      "File \u001b[0;32m~/Documents/university/SLAF-Linked-Data-Workbook/.conda/lib/python3.11/urllib/request.py:1352\u001b[0m, in \u001b[0;36mAbstractHTTPHandler.do_open\u001b[0;34m(self, http_class, req, **http_conn_args)\u001b[0m\n\u001b[1;32m   1350\u001b[0m     \u001b[38;5;28;01mexcept\u001b[39;00m \u001b[38;5;167;01mOSError\u001b[39;00m \u001b[38;5;28;01mas\u001b[39;00m err: \u001b[38;5;66;03m# timeout error\u001b[39;00m\n\u001b[1;32m   1351\u001b[0m         \u001b[38;5;28;01mraise\u001b[39;00m URLError(err)\n\u001b[0;32m-> 1352\u001b[0m     r \u001b[38;5;241m=\u001b[39m \u001b[43mh\u001b[49m\u001b[38;5;241;43m.\u001b[39;49m\u001b[43mgetresponse\u001b[49m\u001b[43m(\u001b[49m\u001b[43m)\u001b[49m\n\u001b[1;32m   1353\u001b[0m \u001b[38;5;28;01mexcept\u001b[39;00m:\n\u001b[1;32m   1354\u001b[0m     h\u001b[38;5;241m.\u001b[39mclose()\n",
      "File \u001b[0;32m~/Documents/university/SLAF-Linked-Data-Workbook/.conda/lib/python3.11/http/client.py:1390\u001b[0m, in \u001b[0;36mHTTPConnection.getresponse\u001b[0;34m(self)\u001b[0m\n\u001b[1;32m   1388\u001b[0m \u001b[38;5;28;01mtry\u001b[39;00m:\n\u001b[1;32m   1389\u001b[0m     \u001b[38;5;28;01mtry\u001b[39;00m:\n\u001b[0;32m-> 1390\u001b[0m         \u001b[43mresponse\u001b[49m\u001b[38;5;241;43m.\u001b[39;49m\u001b[43mbegin\u001b[49m\u001b[43m(\u001b[49m\u001b[43m)\u001b[49m\n\u001b[1;32m   1391\u001b[0m     \u001b[38;5;28;01mexcept\u001b[39;00m \u001b[38;5;167;01mConnectionError\u001b[39;00m:\n\u001b[1;32m   1392\u001b[0m         \u001b[38;5;28mself\u001b[39m\u001b[38;5;241m.\u001b[39mclose()\n",
      "File \u001b[0;32m~/Documents/university/SLAF-Linked-Data-Workbook/.conda/lib/python3.11/http/client.py:325\u001b[0m, in \u001b[0;36mHTTPResponse.begin\u001b[0;34m(self)\u001b[0m\n\u001b[1;32m    323\u001b[0m \u001b[38;5;66;03m# read until we get a non-100 response\u001b[39;00m\n\u001b[1;32m    324\u001b[0m \u001b[38;5;28;01mwhile\u001b[39;00m \u001b[38;5;28;01mTrue\u001b[39;00m:\n\u001b[0;32m--> 325\u001b[0m     version, status, reason \u001b[38;5;241m=\u001b[39m \u001b[38;5;28;43mself\u001b[39;49m\u001b[38;5;241;43m.\u001b[39;49m\u001b[43m_read_status\u001b[49m\u001b[43m(\u001b[49m\u001b[43m)\u001b[49m\n\u001b[1;32m    326\u001b[0m     \u001b[38;5;28;01mif\u001b[39;00m status \u001b[38;5;241m!=\u001b[39m CONTINUE:\n\u001b[1;32m    327\u001b[0m         \u001b[38;5;28;01mbreak\u001b[39;00m\n",
      "File \u001b[0;32m~/Documents/university/SLAF-Linked-Data-Workbook/.conda/lib/python3.11/http/client.py:286\u001b[0m, in \u001b[0;36mHTTPResponse._read_status\u001b[0;34m(self)\u001b[0m\n\u001b[1;32m    285\u001b[0m \u001b[38;5;28;01mdef\u001b[39;00m \u001b[38;5;21m_read_status\u001b[39m(\u001b[38;5;28mself\u001b[39m):\n\u001b[0;32m--> 286\u001b[0m     line \u001b[38;5;241m=\u001b[39m \u001b[38;5;28mstr\u001b[39m(\u001b[38;5;28mself\u001b[39m\u001b[38;5;241m.\u001b[39mfp\u001b[38;5;241m.\u001b[39mreadline(_MAXLINE \u001b[38;5;241m+\u001b[39m \u001b[38;5;241m1\u001b[39m), \u001b[38;5;124m\"\u001b[39m\u001b[38;5;124miso-8859-1\u001b[39m\u001b[38;5;124m\"\u001b[39m)\n\u001b[1;32m    287\u001b[0m     \u001b[38;5;28;01mif\u001b[39;00m \u001b[38;5;28mlen\u001b[39m(line) \u001b[38;5;241m>\u001b[39m _MAXLINE:\n\u001b[1;32m    288\u001b[0m         \u001b[38;5;28;01mraise\u001b[39;00m LineTooLong(\u001b[38;5;124m\"\u001b[39m\u001b[38;5;124mstatus line\u001b[39m\u001b[38;5;124m\"\u001b[39m)\n",
      "File \u001b[0;32m~/Documents/university/SLAF-Linked-Data-Workbook/.conda/lib/python3.11/socket.py:706\u001b[0m, in \u001b[0;36mSocketIO.readinto\u001b[0;34m(self, b)\u001b[0m\n\u001b[1;32m    704\u001b[0m \u001b[38;5;28;01mwhile\u001b[39;00m \u001b[38;5;28;01mTrue\u001b[39;00m:\n\u001b[1;32m    705\u001b[0m     \u001b[38;5;28;01mtry\u001b[39;00m:\n\u001b[0;32m--> 706\u001b[0m         \u001b[38;5;28;01mreturn\u001b[39;00m \u001b[38;5;28;43mself\u001b[39;49m\u001b[38;5;241;43m.\u001b[39;49m\u001b[43m_sock\u001b[49m\u001b[38;5;241;43m.\u001b[39;49m\u001b[43mrecv_into\u001b[49m\u001b[43m(\u001b[49m\u001b[43mb\u001b[49m\u001b[43m)\u001b[49m\n\u001b[1;32m    707\u001b[0m     \u001b[38;5;28;01mexcept\u001b[39;00m timeout:\n\u001b[1;32m    708\u001b[0m         \u001b[38;5;28mself\u001b[39m\u001b[38;5;241m.\u001b[39m_timeout_occurred \u001b[38;5;241m=\u001b[39m \u001b[38;5;28;01mTrue\u001b[39;00m\n",
      "File \u001b[0;32m~/Documents/university/SLAF-Linked-Data-Workbook/.conda/lib/python3.11/ssl.py:1314\u001b[0m, in \u001b[0;36mSSLSocket.recv_into\u001b[0;34m(self, buffer, nbytes, flags)\u001b[0m\n\u001b[1;32m   1310\u001b[0m     \u001b[38;5;28;01mif\u001b[39;00m flags \u001b[38;5;241m!=\u001b[39m \u001b[38;5;241m0\u001b[39m:\n\u001b[1;32m   1311\u001b[0m         \u001b[38;5;28;01mraise\u001b[39;00m \u001b[38;5;167;01mValueError\u001b[39;00m(\n\u001b[1;32m   1312\u001b[0m           \u001b[38;5;124m\"\u001b[39m\u001b[38;5;124mnon-zero flags not allowed in calls to recv_into() on \u001b[39m\u001b[38;5;132;01m%s\u001b[39;00m\u001b[38;5;124m\"\u001b[39m \u001b[38;5;241m%\u001b[39m\n\u001b[1;32m   1313\u001b[0m           \u001b[38;5;28mself\u001b[39m\u001b[38;5;241m.\u001b[39m\u001b[38;5;18m__class__\u001b[39m)\n\u001b[0;32m-> 1314\u001b[0m     \u001b[38;5;28;01mreturn\u001b[39;00m \u001b[38;5;28;43mself\u001b[39;49m\u001b[38;5;241;43m.\u001b[39;49m\u001b[43mread\u001b[49m\u001b[43m(\u001b[49m\u001b[43mnbytes\u001b[49m\u001b[43m,\u001b[49m\u001b[43m \u001b[49m\u001b[43mbuffer\u001b[49m\u001b[43m)\u001b[49m\n\u001b[1;32m   1315\u001b[0m \u001b[38;5;28;01melse\u001b[39;00m:\n\u001b[1;32m   1316\u001b[0m     \u001b[38;5;28;01mreturn\u001b[39;00m \u001b[38;5;28msuper\u001b[39m()\u001b[38;5;241m.\u001b[39mrecv_into(buffer, nbytes, flags)\n",
      "File \u001b[0;32m~/Documents/university/SLAF-Linked-Data-Workbook/.conda/lib/python3.11/ssl.py:1166\u001b[0m, in \u001b[0;36mSSLSocket.read\u001b[0;34m(self, len, buffer)\u001b[0m\n\u001b[1;32m   1164\u001b[0m \u001b[38;5;28;01mtry\u001b[39;00m:\n\u001b[1;32m   1165\u001b[0m     \u001b[38;5;28;01mif\u001b[39;00m buffer \u001b[38;5;129;01mis\u001b[39;00m \u001b[38;5;129;01mnot\u001b[39;00m \u001b[38;5;28;01mNone\u001b[39;00m:\n\u001b[0;32m-> 1166\u001b[0m         \u001b[38;5;28;01mreturn\u001b[39;00m \u001b[38;5;28;43mself\u001b[39;49m\u001b[38;5;241;43m.\u001b[39;49m\u001b[43m_sslobj\u001b[49m\u001b[38;5;241;43m.\u001b[39;49m\u001b[43mread\u001b[49m\u001b[43m(\u001b[49m\u001b[38;5;28;43mlen\u001b[39;49m\u001b[43m,\u001b[49m\u001b[43m \u001b[49m\u001b[43mbuffer\u001b[49m\u001b[43m)\u001b[49m\n\u001b[1;32m   1167\u001b[0m     \u001b[38;5;28;01melse\u001b[39;00m:\n\u001b[1;32m   1168\u001b[0m         \u001b[38;5;28;01mreturn\u001b[39;00m \u001b[38;5;28mself\u001b[39m\u001b[38;5;241m.\u001b[39m_sslobj\u001b[38;5;241m.\u001b[39mread(\u001b[38;5;28mlen\u001b[39m)\n",
      "\u001b[0;31mKeyboardInterrupt\u001b[0m: "
     ]
    }
   ],
   "source": [
    "no_case_query = '''\n",
    "'''\n",
    "\n",
    "run_single_queries(no_case_query, filtered_groups['PERSON'])"
   ]
  },
  {
   "cell_type": "markdown",
   "metadata": {},
   "source": [
    "Although it might have seemed fast to make one query, the time cost of sending off one query at a time becomes very apparent, even when working with a moderately sized collection. To reduce communication overheads, we can batch all of our queries into one, asking the server to resolve all of our queries at once, setting the communication time to be the same for one sample and 1000 samples."
   ]
  },
  {
   "cell_type": "code",
   "execution_count": 67,
   "metadata": {},
   "outputs": [
    {
     "name": "stdout",
     "output_type": "stream",
     "text": [
      "Single query took 6.44 seconds.\n",
      "Batched query took 0.66 seconds.\n"
     ]
    }
   ],
   "source": [
    "batched_query = '''\n",
    "SELECT DISTINCT ?value ?person ?preferredName\n",
    "WHERE {\n",
    "    VALUES (?value) { %s }\n",
    "    ?person skos:inScheme ulan: ; \n",
    "            rdfs:label ?value ;\n",
    "            gvp:prefLabelGVP [ xl:literalForm ?preferredName ] .\n",
    "}\n",
    "'''\n",
    "\n",
    "def run_batched_query(query, people):\n",
    "    formatted_people = ' '.join(f'(\"{person}\")' for person in people)\n",
    "\n",
    "    sparql.setQuery(query % formatted_people)\n",
    "    result = sparql.queryAndConvert()\n",
    "\n",
    "    result_parsed = pd.json_normalize(result['results']['bindings']).rename(columns={'value.value': 'person'})\n",
    "    result_parsed = result_parsed.set_index(['person', result_parsed.index]).drop(columns=['value.type'])\n",
    "    \n",
    "    return result_parsed\n",
    "\n",
    "batched_start = time.time()\n",
    "batched_results = run_batched_query(batched_query, filtered_groups['PERSON'])\n",
    "batched_end = time.time()\n",
    "\n",
    "print(f'Single query took {single_end - single_start:.2f} seconds.')\n",
    "print(f'Batched query took {batched_end - batched_start:.2f} seconds.')"
   ]
  },
  {
   "cell_type": "code",
   "execution_count": null,
   "metadata": {},
   "outputs": [
    {
     "data": {
      "text/html": [
       "<div>\n",
       "<style scoped>\n",
       "    .dataframe tbody tr th:only-of-type {\n",
       "        vertical-align: middle;\n",
       "    }\n",
       "\n",
       "    .dataframe tbody tr th {\n",
       "        vertical-align: top;\n",
       "    }\n",
       "\n",
       "    .dataframe thead th {\n",
       "        text-align: right;\n",
       "    }\n",
       "</style>\n",
       "<table border=\"1\" class=\"dataframe\">\n",
       "  <thead>\n",
       "    <tr style=\"text-align: right;\">\n",
       "      <th></th>\n",
       "      <th></th>\n",
       "      <th>person.type</th>\n",
       "      <th>person.value</th>\n",
       "      <th>preferredName.type</th>\n",
       "      <th>preferredName.value</th>\n",
       "      <th>preferredName.xml:lang</th>\n",
       "    </tr>\n",
       "    <tr>\n",
       "      <th>person</th>\n",
       "      <th></th>\n",
       "      <th></th>\n",
       "      <th></th>\n",
       "      <th></th>\n",
       "      <th></th>\n",
       "      <th></th>\n",
       "    </tr>\n",
       "  </thead>\n",
       "  <tbody>\n",
       "    <tr>\n",
       "      <th rowspan=\"2\" valign=\"top\">Theo</th>\n",
       "      <th>0</th>\n",
       "      <td>uri</td>\n",
       "      <td>http://vocab.getty.edu/ulan/500396193</td>\n",
       "      <td>literal</td>\n",
       "      <td>Theo</td>\n",
       "      <td>NaN</td>\n",
       "    </tr>\n",
       "    <tr>\n",
       "      <th>1</th>\n",
       "      <td>uri</td>\n",
       "      <td>http://vocab.getty.edu/ulan/500174401</td>\n",
       "      <td>literal</td>\n",
       "      <td>Theo</td>\n",
       "      <td>NaN</td>\n",
       "    </tr>\n",
       "    <tr>\n",
       "      <th>Albert Aurier</th>\n",
       "      <th>2</th>\n",
       "      <td>uri</td>\n",
       "      <td>http://vocab.getty.edu/ulan/500313658</td>\n",
       "      <td>literal</td>\n",
       "      <td>Aurier, Albert</td>\n",
       "      <td>NaN</td>\n",
       "    </tr>\n",
       "    <tr>\n",
       "      <th>Gauguin</th>\n",
       "      <th>3</th>\n",
       "      <td>uri</td>\n",
       "      <td>http://vocab.getty.edu/ulan/500011421</td>\n",
       "      <td>literal</td>\n",
       "      <td>Gauguin, Paul</td>\n",
       "      <td>en</td>\n",
       "    </tr>\n",
       "    <tr>\n",
       "      <th>Paul Gauguin</th>\n",
       "      <th>4</th>\n",
       "      <td>uri</td>\n",
       "      <td>http://vocab.getty.edu/ulan/500011421</td>\n",
       "      <td>literal</td>\n",
       "      <td>Gauguin, Paul</td>\n",
       "      <td>en</td>\n",
       "    </tr>\n",
       "    <tr>\n",
       "      <th rowspan=\"3\" valign=\"top\">Monticelli</th>\n",
       "      <th>5</th>\n",
       "      <td>uri</td>\n",
       "      <td>http://vocab.getty.edu/ulan/500431065</td>\n",
       "      <td>literal</td>\n",
       "      <td>Monticelli</td>\n",
       "      <td>NaN</td>\n",
       "    </tr>\n",
       "    <tr>\n",
       "      <th>6</th>\n",
       "      <td>uri</td>\n",
       "      <td>http://vocab.getty.edu/ulan/500000984</td>\n",
       "      <td>literal</td>\n",
       "      <td>Monticelli, Adolphe</td>\n",
       "      <td>nl</td>\n",
       "    </tr>\n",
       "    <tr>\n",
       "      <th>7</th>\n",
       "      <td>uri</td>\n",
       "      <td>http://vocab.getty.edu/ulan/500050589</td>\n",
       "      <td>literal</td>\n",
       "      <td>Monticelli, Andrea</td>\n",
       "      <td>nl</td>\n",
       "    </tr>\n",
       "  </tbody>\n",
       "</table>\n",
       "</div>"
      ],
      "text/plain": [
       "                person.type                           person.value preferredName.type  preferredName.value preferredName.xml:lang\n",
       "person                                                                                                                           \n",
       "Theo          0         uri  http://vocab.getty.edu/ulan/500396193            literal                 Theo                    NaN\n",
       "              1         uri  http://vocab.getty.edu/ulan/500174401            literal                 Theo                    NaN\n",
       "Albert Aurier 2         uri  http://vocab.getty.edu/ulan/500313658            literal       Aurier, Albert                    NaN\n",
       "Gauguin       3         uri  http://vocab.getty.edu/ulan/500011421            literal        Gauguin, Paul                     en\n",
       "Paul Gauguin  4         uri  http://vocab.getty.edu/ulan/500011421            literal        Gauguin, Paul                     en\n",
       "Monticelli    5         uri  http://vocab.getty.edu/ulan/500431065            literal           Monticelli                    NaN\n",
       "              6         uri  http://vocab.getty.edu/ulan/500000984            literal  Monticelli, Adolphe                     nl\n",
       "              7         uri  http://vocab.getty.edu/ulan/500050589            literal   Monticelli, Andrea                     nl"
      ]
     },
     "execution_count": 18,
     "metadata": {},
     "output_type": "execute_result"
    }
   ],
   "source": [
    "batched_results"
   ]
  },
  {
   "cell_type": "markdown",
   "metadata": {},
   "source": [
    "### Optional Exercise\n",
    "\n",
    "Try and modify the previous batched SPARQL query to also **optionally** retrieve the literal form of the preferred nationality for each artist. Your table should return 4 new columns: nationality.xml:lang, nationality.type, nationality.value and preferredName.xml:lang.\n",
    "\n",
    "<details>\n",
    "<summary>Hint 1</summary>\n",
    "\n",
    "1. You'll need to create a new variable for SELECT\n",
    "2. You'll need to use the [optional](https://en.wikibooks.org/wiki/SPARQL/OPTIONAL) syntax for SPARQL\n",
    "\n",
    "</details>\n",
    "\n",
    "<details>\n",
    "<summary>Hint 2</summary>\n",
    "\n",
    "You can use `foaf:focus` to with `?person` as a predicate:\n",
    "\n",
    "```\n",
    "?person foaf:focus ...\n",
    "```\n",
    "\n",
    "</details>\n",
    "\n",
    "<details>\n",
    "<summary>Hint 3</summary>\n",
    "\n",
    "Apply the same pattern we used to get the literal form of the artist's preferred name, but instead of applying the pattern to `?person`, apply it to the preferred nationality predicate.\n",
    "\n",
    "</details>\n",
    "\n",
    "<details>\n",
    "<summary>Solution</summary>\n",
    "\n",
    "1. The first stage is to add the `?nationality` value to `SELECT`. \n",
    "2. We can then add an `OPTIONAL` element to the `WHERE` block. This will allow the server to respond with a nationality if it can find it but will not prevent the query from returning the more important data we requested if it can't find anything. If we didn't wrap this in an optional block, no data would be returned if a nationality could not be found.\n",
    "3. \n",
    "\n",
    "<div>\n",
    "\n",
    "```python\n",
    "batched_query = '''\n",
    "SELECT DISTINCT ?value ?person ?preferredName ?nationality\n",
    "WHERE {\n",
    "    VALUES (?value) { %s }\n",
    "    ?person skos:inScheme ulan: ;\n",
    "            rdfs:label ?value ;\n",
    "            gvp:prefLabelGVP [ xl:literalForm ?preferredName ] .\n",
    "\n",
    "    OPTIONAL {\n",
    "        ?person foaf:focus [ gvp:nationalityPreferred [ gvp:prefLabelGVP [ xl:literalForm ?nationality ]]]\n",
    "    }\n",
    "}\n",
    "'''\n",
    "```\n",
    "\n",
    "</div>\n",
    "</details>"
   ]
  },
  {
   "cell_type": "code",
   "execution_count": null,
   "metadata": {},
   "outputs": [
    {
     "ename": "TypeError",
     "evalue": "not all arguments converted during string formatting",
     "output_type": "error",
     "traceback": [
      "\u001b[0;31m---------------------------------------------------------------------------\u001b[0m",
      "\u001b[0;31mTypeError\u001b[0m                                 Traceback (most recent call last)",
      "Cell \u001b[0;32mIn[13], line 5\u001b[0m\n\u001b[1;32m      1\u001b[0m nationality_query \u001b[38;5;241m=\u001b[39m \u001b[38;5;124m'''\u001b[39m\n\u001b[1;32m      2\u001b[0m \u001b[38;5;124m# YOUR QUERY HERE\u001b[39m\n\u001b[1;32m      3\u001b[0m \u001b[38;5;124m'''\u001b[39m\n\u001b[0;32m----> 5\u001b[0m \u001b[43mrun_batched_query\u001b[49m\u001b[43m(\u001b[49m\u001b[43mnationality_query\u001b[49m\u001b[43m,\u001b[49m\u001b[43m \u001b[49m\u001b[43mfiltered_groups\u001b[49m\u001b[43m[\u001b[49m\u001b[38;5;124;43m'\u001b[39;49m\u001b[38;5;124;43mPERSON\u001b[39;49m\u001b[38;5;124;43m'\u001b[39;49m\u001b[43m]\u001b[49m\u001b[43m)\u001b[49m\n",
      "Cell \u001b[0;32mIn[11], line 14\u001b[0m, in \u001b[0;36mrun_batched_query\u001b[0;34m(query, people)\u001b[0m\n\u001b[1;32m     11\u001b[0m \u001b[38;5;28;01mdef\u001b[39;00m \u001b[38;5;21mrun_batched_query\u001b[39m(query, people):\n\u001b[1;32m     12\u001b[0m     formatted_people \u001b[38;5;241m=\u001b[39m \u001b[38;5;124m'\u001b[39m\u001b[38;5;124m \u001b[39m\u001b[38;5;124m'\u001b[39m\u001b[38;5;241m.\u001b[39mjoin(\u001b[38;5;124mf\u001b[39m\u001b[38;5;124m'\u001b[39m\u001b[38;5;124m(\u001b[39m\u001b[38;5;124m\"\u001b[39m\u001b[38;5;132;01m{\u001b[39;00mperson\u001b[38;5;132;01m}\u001b[39;00m\u001b[38;5;124m\"\u001b[39m\u001b[38;5;124m)\u001b[39m\u001b[38;5;124m'\u001b[39m \u001b[38;5;28;01mfor\u001b[39;00m person \u001b[38;5;129;01min\u001b[39;00m people)\n\u001b[0;32m---> 14\u001b[0m     sparql\u001b[38;5;241m.\u001b[39msetQuery(\u001b[43mquery\u001b[49m\u001b[43m \u001b[49m\u001b[38;5;241;43m%\u001b[39;49m\u001b[43m \u001b[49m\u001b[43mformatted_people\u001b[49m)\n\u001b[1;32m     15\u001b[0m     result \u001b[38;5;241m=\u001b[39m sparql\u001b[38;5;241m.\u001b[39mqueryAndConvert()\n\u001b[1;32m     17\u001b[0m     result_parsed \u001b[38;5;241m=\u001b[39m pd\u001b[38;5;241m.\u001b[39mjson_normalize(result[\u001b[38;5;124m'\u001b[39m\u001b[38;5;124mresults\u001b[39m\u001b[38;5;124m'\u001b[39m][\u001b[38;5;124m'\u001b[39m\u001b[38;5;124mbindings\u001b[39m\u001b[38;5;124m'\u001b[39m])\u001b[38;5;241m.\u001b[39mrename(columns\u001b[38;5;241m=\u001b[39m{\u001b[38;5;124m'\u001b[39m\u001b[38;5;124mvalue.value\u001b[39m\u001b[38;5;124m'\u001b[39m: \u001b[38;5;124m'\u001b[39m\u001b[38;5;124mperson\u001b[39m\u001b[38;5;124m'\u001b[39m})\n",
      "\u001b[0;31mTypeError\u001b[0m: not all arguments converted during string formatting"
     ]
    }
   ],
   "source": [
    "nationality_query = '''\n",
    "# YOUR QUERY HERE\n",
    "'''\n",
    "\n",
    "run_batched_query(nationality_query, filtered_groups['PERSON'])"
   ]
  },
  {
   "cell_type": "markdown",
   "metadata": {},
   "source": [
    "We can now take our retrieved matches and tag the spans in the spacy document. There is one main consideration we have to make here."
   ]
  },
  {
   "cell_type": "code",
   "execution_count": 13,
   "metadata": {},
   "outputs": [
    {
     "data": {
      "application/vnd.jupyter.widget-view+json": {
       "model_id": "893fde91fff241cba47dbf4effe44ab6",
       "version_major": 2,
       "version_minor": 0
      },
      "text/plain": [
       "  0%|          | 0/10 [00:00<?, ?it/s]"
      ]
     },
     "metadata": {},
     "output_type": "display_data"
    }
   ],
   "source": [
    "no_case_query = '''\n",
    "SELECT DISTINCT ?person ?preferredName\n",
    "WHERE {\n",
    "    ?person skos:inScheme ulan: ; \n",
    "            rdfs:label ?label ;\n",
    "            gvp:prefLabelGVP [ xl:literalForm ?preferredName ] .\n",
    "\n",
    "    FILTER (LCASE(STR(?label)) = LCASE(STR(\"%s\")))\n",
    "}\n",
    "'''\n",
    "\n",
    "results = run_single_queries(no_case_query, filtered_groups['PERSON'])"
   ]
  },
  {
   "cell_type": "code",
   "execution_count": null,
   "metadata": {},
   "outputs": [
    {
     "data": {
      "text/plain": [
       "False"
      ]
     },
     "execution_count": 49,
     "metadata": {},
     "output_type": "execute_result"
    }
   ],
   "source": [
    "'this day' in results.index.levels[0]"
   ]
  },
  {
   "cell_type": "code",
   "execution_count": 26,
   "metadata": {},
   "outputs": [
    {
     "name": "stdout",
     "output_type": "stream",
     "text": [
      "Van Gogh: http://vocab.getty.edu/ulan/500115588\n",
      "this day: None\n",
      "Van Gogh: http://vocab.getty.edu/ulan/500115588\n"
     ]
    }
   ],
   "source": [
    "from spacy.tokens import SpanGroup\n",
    "\n",
    "for doc in docs:\n",
    "    for ent in doc.ents:\n",
    "        if ent.text in results.index.levels[0]:\n",
    "            # Get the URI from the row that has the entity text\n",
    "            uri = results.loc[ent.text, \"person.value\"].values[0] \n",
    "            doc.spans[uri] = [doc[ent.start:ent.end]]\n",
    "\n",
    "for ent in docs[0].ents:\n",
    "    print(f'{ent.text}: {ent._.uri}')"
   ]
  },
  {
   "cell_type": "code",
   "execution_count": 27,
   "metadata": {},
   "outputs": [
    {
     "data": {
      "text/plain": [
       "{'uri': [], 'http://vocab.getty.edu/ulan/500115588': [Van Gogh]}"
      ]
     },
     "execution_count": 27,
     "metadata": {},
     "output_type": "execute_result"
    }
   ],
   "source": [
    "docs[0].spans"
   ]
  },
  {
   "cell_type": "code",
   "execution_count": 25,
   "metadata": {},
   "outputs": [
    {
     "name": "stderr",
     "output_type": "stream",
     "text": [
      "/home/liam/Documents/university/SLAF-Linked-Data-Workbook/.conda/lib/python3.11/site-packages/spacy/displacy/__init__.py:244: UserWarning: [W117] No spans to visualize found in Doc object with spans_key: 'sc'. If this is surprising to you, make sure the Doc was processed using a model that supports span categorization, and check the `doc.spans[spans_key]` property manually if necessary.\n",
      "\n",
      "Available keys: ['uri', 'http://vocab.getty.edu/ulan/500115588']\n",
      "  warnings.warn(Warnings.W117.format(spans_key=spans_key, keys=keys))\n"
     ]
    },
    {
     "data": {
      "text/html": [
       "<span class=\"tex2jax_ignore\"><div class=\"spans\" style=\"line-height: 2.5; direction: ltr\">‘ The sunflower is mine ’ , Van Gogh once declared . Soon after his death he became known as the painter of sunflowers , an identification that endures to this day . No other artist has been so closely associated with a specific flower , and his sunflower pictures continue to be among Van Gogh ’s most iconic – and loved – works . </div></span>"
      ],
      "text/plain": [
       "<IPython.core.display.HTML object>"
      ]
     },
     "metadata": {},
     "output_type": "display_data"
    }
   ],
   "source": [
    "spacy.displacy.render(docs[0], style='span', jupyter=True)"
   ]
  },
  {
   "cell_type": "markdown",
   "metadata": {},
   "source": [
    "### Some Final Thoughts and Takeaways\n",
    "\n",
    "This example project has some issues which arise that need to be considered when being implemented in an actual system. For each of the NER tags we chose to keep, try to think of some potential considerations that must be made when trying to disambiguate entities. Once you've had a think, expand the tab below to see some examples we have come up with.\n",
    "\n",
    "<details>\n",
    "    <summary>Some Example Problems & Considerations</summary>\n",
    "    <h4>People</h4>\n",
    "    <ul>\n",
    "        <li>Names are not always enough to disambiguate people. The name \"van Gogh\" is almost always used to refer to Vincent van Gogh but there are also <a href=https://www.getty.edu/vow/ULANServlet?english=Y&find=van+gogh&role=&page=1&nation=>other painters</a> that share the same surname.</li>\n",
    "        <li>Historically, women were referred to by their husband's name e.g. Mrs. John Smith. These women may be possible to identify by context or may not be named in any historical record at all.</li>\n",
    "    </ul>\n",
    "    <h4>Locations & Geopolotical Entities</h4>\n",
    "    <ul>\n",
    "        <li>Map borders are not static; place names in text must be disambiguated based on the time that it was written/discussing. Discussing the Roman Empire in the 1st century versus the 3rd century draws a very different world map.</li>\n",
    "        <li>Ambiguous place names such as <a href=https://en.wikipedia.org/wiki/Springfield>Springfield</a> require context to unambiguously define. Sometimes it is impossible with the provided information.</li>\n",
    "    </ul>\n",
    "    <h4>Work of Art</h4>\n",
    "    <ul>\n",
    "    <li>Identifying artworks in text using NER is very challenging as the names often appear as generic, natural language to NER systems unless specifically trained for artwork identification or at least the semantics of cultural heritage (<a href=https://link.springer.com/chapter/10.1007/978-3-030-30760-8_10>source</a>)</li>\n",
    "    <li>Before the 18th century, there was little need to name artworks and so the majority of historical works have been prescribed names by galleries or art-historians based on their subject matter (<a href=https://www.artsy.net/article/artsy-editorial-artworks-untitled>source</a>). Artwork names are not a fixed identification of a piece and may change over time, meaning the same work can have many names including \"untitled\".</li>\n",
    "    <li>By chance, intention or for the aforementioned reason, many works can share the same name, especially \"untitled\". As such, context and additional information is required to disambiguate a specific reference to an artwork.</li>\n",
    "    <li>Even trying to disambiguate by artist and title is often insufficient. <a href=https://en.wikipedia.org/wiki/Sunflowers_(Van_Gogh_series)>Sunflowers</a> is an example where van Gogh produced multiple series of the work under the same name.</li>\n",
    "    </ul>\n",
    "</details>\n",
    "\n",
    "It is important to note that these issues become the strength of linked data once accurately disambiguated. Being able to uniquely refer to a very specific entity without any possibility for misreference is very powerful for accurately assigning meta-data and progressing research. Furthermore, developing these unambiguous entities allows for others to link their knowledge with ours to expand the possibility for mapping and discovery. Once assigned a URI, you can also periodically request data from other databases and benefit from any updates or additions that they made provide. The quality of your data could improve without any effort from you if others improve their data and vice versa."
   ]
  }
 ],
 "metadata": {
  "kernelspec": {
   "display_name": "slaf",
   "language": "python",
   "name": "python3"
  },
  "language_info": {
   "codemirror_mode": {
    "name": "ipython",
    "version": 3
   },
   "file_extension": ".py",
   "mimetype": "text/x-python",
   "name": "python",
   "nbconvert_exporter": "python",
   "pygments_lexer": "ipython3",
   "version": "3.11.8"
  }
 },
 "nbformat": 4,
 "nbformat_minor": 2
}
